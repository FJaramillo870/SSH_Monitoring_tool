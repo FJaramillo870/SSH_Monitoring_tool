{
 "cells": [
  {
   "cell_type": "markdown",
   "id": "90a17ad2",
   "metadata": {},
   "source": [
    "# App for monitoring SSH connections"
   ]
  },
  {
   "cell_type": "markdown",
   "id": "cdd43355",
   "metadata": {},
   "source": [
    "## SSH Monitoring for the BIZON Z500 Deep Learning Workstation\n",
    "### Introduction\n",
    "Secure Shell Protocol (SSH) monitoring can be challenging for users due to the need for terminal commands, a connection setup with a username, IP address, and password. To simplify this process, we developed a user-friendly software. This application offers a more intuitive interface, consolidating all data in one place.\n",
    "### Development Overview\n",
    "The purpose of this software is to efficiently monitor the BIZON Z500 Deep Learning Workstation for SSH activity. It remotely monitors the workstation, eliminating the need for users to manually run commands. The software, developed using the Bash and Python programming languages and Pandas, Gradio, and SQLite libraries, automatically connects to the server, runs necessary commands, and stores data in a database. This information is then presented on a user-friendly website.\n",
    "### Key Features\n",
    "Key features include:\n",
    "\n",
    "•\tAutomatic connection to the workstation\n",
    "\n",
    "•\tCentralized data storage\n",
    "\n",
    "•\tRegular updates to the database\n",
    "\n",
    "•\tGraphical User Interface (GUI) for easy navigation\n",
    "\n",
    "### Development Process\n",
    "During the development process, we prioritized creating the database, followed by the GUI, bash script, and Pandas data frame. The bash script facilitates automatic connection and command execution, while the Pandas data frame organizes the data before it is sent to the database. The data is then displayed using Gradio interface.\n",
    "### Benefits\n",
    "Benefits include:\n",
    "\n",
    "•\tDatabase storage for accessing historical records\n",
    "\n",
    "•\tEnhanced monitoring efficiency\n",
    "\n",
    "•\tUser-friendly GUI, eliminating the need for command-line expertise\n",
    "\n",
    "•\tEasy data retrieval with a search bar and sorting options\n",
    "\n",
    "### Conclusion\n",
    "In conclusion, the primary goal of developing this software was to simplify SSH monitoring for users. This goal has been achieved by enabling remote monitoring without the need for manual command execution. With the Gradio link, users can conveniently access and review past login records.\n"
   ]
  },
  {
   "cell_type": "markdown",
   "id": "21cae8c2",
   "metadata": {},
   "source": [
    "## Install dependencies"
   ]
  },
  {
   "cell_type": "markdown",
   "id": "8f173821",
   "metadata": {},
   "source": [
    "Installs the necessary requirements for running this application. Gradio is a python library and is used for creating the webpage. More information on Gradio can be found at https://www.gradio.app/ . A fsspec upgrade is required so Gradio can run properly but it may not be needed on all machines. Pandas is a python library used for creating the dataframes. MOre information on pandas can be found at https://pandas.pydata.org/docs/ ."
   ]
  },
  {
   "cell_type": "code",
   "execution_count": null,
   "id": "a48001e8",
   "metadata": {},
   "outputs": [],
   "source": [
    "!pip install gradio\n",
    "!pip install fsspec --upgrade\n",
    "!pip install pandas"
   ]
  },
  {
   "cell_type": "markdown",
   "id": "88388d8a",
   "metadata": {},
   "source": [
    "This imports the libraries that are needed for running this application."
   ]
  },
  {
   "cell_type": "code",
   "execution_count": null,
   "id": "f450f471",
   "metadata": {},
   "outputs": [],
   "source": [
    "import pandas as pd\n",
    "import gradio as gr\n",
    "import sqlite3"
   ]
  },
  {
   "cell_type": "markdown",
   "id": "5bd87682",
   "metadata": {},
   "source": [
    "Bash script used to connect to the server and run the last command which gives us the information needed for monitoring the server. This currently uses ssh pass which may need to be installed if you get an error. This can be installed with this command in the cell below. When logging into your SSH you will need to change the username and IP address and have a text file with the servers password. Also the path to where you want your csv file saved should be specified."
   ]
  },
  {
   "cell_type": "code",
   "execution_count": null,
   "id": "6153bb92",
   "metadata": {},
   "outputs": [],
   "source": [
    "%%bash\n",
    "#!/usr/bin/bash\n",
    "#How to install sshpass package\n",
    "#apt-get install sshpass\n",
    "sshpass -f password.txt ssh user@IP Address\n",
    "cd Desktop/F_Jaramillo_Project\n",
    "output=\"$(last -s yesterday -t today)\"\n",
    "echo \"$output\" >>log.csv"
   ]
  },
  {
   "cell_type": "markdown",
   "id": "0c46f2fe",
   "metadata": {},
   "source": [
    "Creates the pandas dataframe for later use in the application."
   ]
  },
  {
   "cell_type": "code",
   "execution_count": null,
   "id": "f4041301",
   "metadata": {},
   "outputs": [],
   "source": [
    "names = ['Username', 'IP', 'LoginTime', 'LogoutTime', 'TotalTime', 'Terminal']\n",
    "df = pd.read_csv('log.csv', sep=' ', names=names)\n",
    "print(df.head())"
   ]
  },
  {
   "cell_type": "markdown",
   "id": "ce143880",
   "metadata": {},
   "source": [
    "Establishes a connection to the sqlite database and creates a table named Table1. The cell below should only be ran once as it will produce an error if it is ran more than once. The error is produced because the table already exists and does not need to be created again."
   ]
  },
  {
   "cell_type": "code",
   "execution_count": null,
   "id": "75c55ecd",
   "metadata": {},
   "outputs": [],
   "source": [
    "conn = sqlite3.connect(\"test.db\")\n",
    "cur = conn.cursor()\n",
    "\n",
    "sql = \"\"\"\n",
    "create table Table1\n",
    "    (Username varchar(256),\n",
    "    IP varchar(256),\n",
    "    LoginTime varchar(256),\n",
    "    LogoutTime varchar(256),\n",
    "    TotalTime varchar(256),\n",
    "    Terminal varchar(256)\n",
    "    );\n",
    "\"\"\"\n",
    "\n",
    "cur.execute(sql)\n",
    "print(\"database has been created\")\n",
    "\n",
    "conn.commit()\n",
    "conn.close()"
   ]
  },
  {
   "cell_type": "markdown",
   "id": "d6d295fe",
   "metadata": {},
   "source": [
    "Pushes the information from the pandas dataframe created earlier to the newly created mysqlite database."
   ]
  },
  {
   "cell_type": "code",
   "execution_count": null,
   "id": "3579395f",
   "metadata": {},
   "outputs": [],
   "source": [
    "conn = sqlite3.connect(\"test.db\")\n",
    "df.to_sql(\"Table1\", conn,schema=None, if_exists='append', index=False, index_label=None, chunksize=6, dtype=None, method=None)\n",
    "conn.close()"
   ]
  },
  {
   "cell_type": "markdown",
   "id": "6e0af4eb",
   "metadata": {},
   "source": [
    "Converts the information stored in the database back into a datafram for use on the gradio webpage."
   ]
  },
  {
   "cell_type": "code",
   "execution_count": null,
   "id": "e10d37a2",
   "metadata": {},
   "outputs": [],
   "source": [
    "#Converts the Database to a pandas DataFrame so it can be used on the Gradio web page\n",
    "connection = sqlite3.connect(\"test.db\")\n",
    "sql = pd.read_sql_query(\"SELECT * FROM Table1\", connection)\n",
    "df = pd.DataFrame(sql, columns=[\"Username\", \"IP\",\"LoginTime\", \"LogoutTime\",\n",
    "                     \"TotalTime\",\"Terminal\"])\n",
    "connection.close()\n",
    "print(df)"
   ]
  },
  {
   "cell_type": "markdown",
   "id": "f7d6539e",
   "metadata": {},
   "source": [
    "Creates the Gradio webpage and provides 2 links. The first link being the local link and the second is a shareable link that can be sent to others that may need access."
   ]
  },
  {
   "cell_type": "code",
   "execution_count": null,
   "id": "84652053",
   "metadata": {},
   "outputs": [],
   "source": [
    "css = \"\"\"\n",
    "#warning textarea {background-color: #595cff;\n",
    "}\n",
    "\"\"\"\n",
    "\n",
    "def filter_records(Textbox, dropdown):\n",
    "    filter = df[df[dropdown] == Textbox]\n",
    "    return filter\n",
    "\n",
    "with gr.Blocks(theme=gr.themes.Base(), css=css) as first_page:\n",
    "    with gr.Tabs() as pages:\n",
    "        with gr.TabItem(\"Database\", id=0) as page1:\n",
    "            with gr.Row():\n",
    "                gr.Textbox(scale=0, show_label=False, value='Look up', elem_id=\"warning\")\n",
    "                Textbox = gr.Textbox(scale=2, show_label=False)\n",
    "                gr.Textbox(scale=0, show_label=False, value='in', elem_id=\"warning\")\n",
    "                dropdown=gr.Dropdown([\"Username\", \"IP\",\"LoginTime\", \"LogoutTime\",\n",
    "                             \"TotalTime\",\"Terminal\"],\n",
    "                             scale=2, show_label=False)\n",
    "                button = gr.Button(value=\"Search\", size='sm', scale=0)\n",
    "            with gr.Row():\n",
    "                df_info = gr.Dataframe(height=800, value=df,\n",
    "                             headers=[\"Username\", \"IP Address\",\"Login Time\", \"Logout time\",\n",
    "                             \"Total Time\",\"Terminal\"],\n",
    "                             datatype=[\"str\", \"str\", \"str\", \"str\", \"str\", \"str\"],\n",
    "                             row_count=10,\n",
    "                             col_count=(6, \"fixed\"))\n",
    "        with gr.TabItem(\"Search Results\", id=1) as page2:\n",
    "            gr.Label=()\n",
    "            button.click(fn=filter_records, inputs=[Textbox, dropdown],outputs=[gr.Dataframe(headers=[\"Username\", \"IP Address\",\"Login Time\", \"Logout time\",\n",
    "                                 \"Total Time\",\"Terminal\"])])\n",
    "first_page.launch(share=True)"
   ]
  },
  {
   "cell_type": "code",
   "execution_count": null,
   "id": "6d859295",
   "metadata": {},
   "outputs": [],
   "source": []
  }
 ],
 "metadata": {
  "kernelspec": {
   "display_name": "Python 3 (ipykernel)",
   "language": "python",
   "name": "python3"
  },
  "language_info": {
   "codemirror_mode": {
    "name": "ipython",
    "version": 3
   },
   "file_extension": ".py",
   "mimetype": "text/x-python",
   "name": "python",
   "nbconvert_exporter": "python",
   "pygments_lexer": "ipython3",
   "version": "3.9.7"
  }
 },
 "nbformat": 4,
 "nbformat_minor": 5
}
