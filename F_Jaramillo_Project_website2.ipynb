{
 "cells": [
  {
   "cell_type": "markdown",
   "id": "90a17ad2",
   "metadata": {},
   "source": [
    "# App for monitoring SSH connections"
   ]
  },
  {
   "cell_type": "markdown",
   "id": "cdd43355",
   "metadata": {},
   "source": [
    "## SSH Monitoring for the BIZON Z500 Deep Learning Workstation\n",
    "### Introduction\n",
    "Secure Shell Protocol (SSH) monitoring can be challenging for users due to the need for terminal commands, a connection setup with a username, IP address, and password. To simplify this process, we developed a user-friendly software. This application offers a more intuitive interface, consolidating all data in one place.\n",
    "### Development Overview\n",
    "The purpose of this software is to efficiently monitor the BIZON Z500 Deep Learning Workstation for SSH activity. It remotely monitors the workstation, eliminating the need for users to manually run commands. The software, developed using the Bash and Python programming languages and Pandas, Gradio, and SQLite libraries, automatically connects to the server, runs necessary commands, and stores data in a database. This information is then presented on a user-friendly website.\n",
    "### Key Features\n",
    "Key features include:\n",
    "\n",
    "•\tAutomatic connection to the workstation\n",
    "\n",
    "•\tCentralized data storage\n",
    "\n",
    "•\tRegular updates to the database\n",
    "\n",
    "•\tGraphical User Interface (GUI) for easy navigation\n",
    "\n",
    "### Development Process\n",
    "During the development process, we prioritized creating the database, followed by the GUI, bash script, and Pandas data frame. The bash script facilitates automatic connection and command execution, while the Pandas data frame organizes the data before it is sent to the database. The data is then displayed using Gradio interface.\n",
    "### Benefits\n",
    "Benefits include:\n",
    "\n",
    "•\tDatabase storage for accessing historical records\n",
    "\n",
    "•\tEnhanced monitoring efficiency\n",
    "\n",
    "•\tUser-friendly GUI, eliminating the need for command-line expertise\n",
    "\n",
    "•\tEasy data retrieval with a search bar and sorting options\n",
    "\n",
    "### Conclusion\n",
    "In conclusion, the primary goal of developing this software was to simplify SSH monitoring for users. This goal has been achieved by enabling remote monitoring without the need for manual command execution. With the Gradio link, users can conveniently access and review past login records.\n"
   ]
  },
  {
   "cell_type": "markdown",
   "id": "21cae8c2",
   "metadata": {},
   "source": [
    "## Install dependencies"
   ]
  },
  {
   "cell_type": "markdown",
   "id": "8f173821",
   "metadata": {},
   "source": [
    "Installs the necessary requirements for running this application. Gradio is a python library and is used for creating the webpage. More information on Gradio can be found at https://www.gradio.app/ . A fsspec upgrade is required so Gradio can run properly but it may not be needed on all machines. Pandas is a python library used for creating the dataframes. MOre information on pandas can be found at https://pandas.pydata.org/docs/ ."
   ]
  },
  {
   "cell_type": "code",
   "execution_count": 1,
   "id": "a48001e8",
   "metadata": {},
   "outputs": [
    {
     "name": "stdout",
     "output_type": "stream",
     "text": [
      "Requirement already satisfied: gradio in /home/bizon/anaconda3/lib/python3.7/site-packages (3.34.0)\n",
      "Requirement already satisfied: orjson in /home/bizon/anaconda3/lib/python3.7/site-packages (from gradio) (3.9.7)\n",
      "Requirement already satisfied: altair>=4.2.0 in /home/bizon/anaconda3/lib/python3.7/site-packages (from gradio) (5.0.1)\n",
      "Requirement already satisfied: aiofiles in /home/bizon/anaconda3/lib/python3.7/site-packages (from gradio) (23.2.1)\n",
      "Requirement already satisfied: markdown-it-py[linkify]>=2.0.0 in /home/bizon/anaconda3/lib/python3.7/site-packages (from gradio) (2.2.0)\n",
      "Requirement already satisfied: pillow in /home/bizon/anaconda3/lib/python3.7/site-packages (from gradio) (7.0.0)\n",
      "Requirement already satisfied: semantic-version in /home/bizon/anaconda3/lib/python3.7/site-packages (from gradio) (2.10.0)\n",
      "Requirement already satisfied: matplotlib in /home/bizon/anaconda3/lib/python3.7/site-packages (from gradio) (3.1.3)\n",
      "Requirement already satisfied: uvicorn>=0.14.0 in /home/bizon/anaconda3/lib/python3.7/site-packages (from gradio) (0.22.0)\n",
      "Requirement already satisfied: markupsafe in /home/bizon/anaconda3/lib/python3.7/site-packages (from gradio) (1.1.1)\n",
      "Requirement already satisfied: websockets>=10.0 in /home/bizon/anaconda3/lib/python3.7/site-packages (from gradio) (11.0.3)\n",
      "Requirement already satisfied: typing-extensions in /home/bizon/anaconda3/lib/python3.7/site-packages (from gradio) (4.7.1)\n",
      "Requirement already satisfied: numpy in /home/bizon/anaconda3/lib/python3.7/site-packages (from gradio) (1.18.1)\n",
      "Requirement already satisfied: httpx in /home/bizon/anaconda3/lib/python3.7/site-packages (from gradio) (0.24.1)\n",
      "Requirement already satisfied: requests in /home/bizon/anaconda3/lib/python3.7/site-packages (from gradio) (2.28.1)\n",
      "Requirement already satisfied: pyyaml in /home/bizon/anaconda3/lib/python3.7/site-packages (from gradio) (5.3)\n",
      "Requirement already satisfied: pydub in /home/bizon/anaconda3/lib/python3.7/site-packages (from gradio) (0.25.1)\n",
      "Requirement already satisfied: jinja2 in /home/bizon/anaconda3/lib/python3.7/site-packages (from gradio) (2.11.1)\n",
      "Requirement already satisfied: huggingface-hub>=0.14.0 in /home/bizon/anaconda3/lib/python3.7/site-packages (from gradio) (0.16.4)\n",
      "Requirement already satisfied: ffmpy in /home/bizon/anaconda3/lib/python3.7/site-packages (from gradio) (0.3.1)\n",
      "Requirement already satisfied: python-multipart in /home/bizon/anaconda3/lib/python3.7/site-packages (from gradio) (0.0.6)\n",
      "Requirement already satisfied: pandas in /home/bizon/anaconda3/lib/python3.7/site-packages (from gradio) (1.0.1)\n",
      "Requirement already satisfied: mdit-py-plugins<=0.3.3 in /home/bizon/anaconda3/lib/python3.7/site-packages (from gradio) (0.3.3)\n",
      "Requirement already satisfied: pygments>=2.12.0 in /home/bizon/anaconda3/lib/python3.7/site-packages (from gradio) (2.16.1)\n",
      "Requirement already satisfied: fastapi in /home/bizon/anaconda3/lib/python3.7/site-packages (from gradio) (0.103.2)\n",
      "Requirement already satisfied: gradio-client>=0.2.6 in /home/bizon/anaconda3/lib/python3.7/site-packages (from gradio) (0.2.6)\n",
      "Requirement already satisfied: pydantic in /home/bizon/anaconda3/lib/python3.7/site-packages (from gradio) (2.4.2)\n",
      "Requirement already satisfied: aiohttp in /home/bizon/anaconda3/lib/python3.7/site-packages (from gradio) (3.8.6)\n",
      "Requirement already satisfied: importlib-metadata; python_version < \"3.8\" in /home/bizon/anaconda3/lib/python3.7/site-packages (from altair>=4.2.0->gradio) (1.5.0)\n",
      "Requirement already satisfied: jsonschema>=3.0 in /home/bizon/anaconda3/lib/python3.7/site-packages (from altair>=4.2.0->gradio) (3.2.0)\n",
      "Requirement already satisfied: toolz in /home/bizon/anaconda3/lib/python3.7/site-packages (from altair>=4.2.0->gradio) (0.10.0)\n",
      "Requirement already satisfied: mdurl~=0.1 in /home/bizon/anaconda3/lib/python3.7/site-packages (from markdown-it-py[linkify]>=2.0.0->gradio) (0.1.2)\n",
      "Requirement already satisfied: linkify-it-py<3,>=1; extra == \"linkify\" in /home/bizon/anaconda3/lib/python3.7/site-packages (from markdown-it-py[linkify]>=2.0.0->gradio) (2.0.2)\n",
      "Requirement already satisfied: pyparsing!=2.0.4,!=2.1.2,!=2.1.6,>=2.0.1 in /home/bizon/anaconda3/lib/python3.7/site-packages (from matplotlib->gradio) (2.4.6)\n",
      "Requirement already satisfied: kiwisolver>=1.0.1 in /home/bizon/anaconda3/lib/python3.7/site-packages (from matplotlib->gradio) (1.1.0)\n",
      "Requirement already satisfied: python-dateutil>=2.1 in /home/bizon/anaconda3/lib/python3.7/site-packages (from matplotlib->gradio) (2.8.1)\n",
      "Requirement already satisfied: cycler>=0.10 in /home/bizon/anaconda3/lib/python3.7/site-packages (from matplotlib->gradio) (0.10.0)\n",
      "Requirement already satisfied: h11>=0.8 in /home/bizon/anaconda3/lib/python3.7/site-packages (from uvicorn>=0.14.0->gradio) (0.14.0)\n",
      "Requirement already satisfied: click>=7.0 in /home/bizon/anaconda3/lib/python3.7/site-packages (from uvicorn>=0.14.0->gradio) (7.0)\n",
      "Requirement already satisfied: certifi in /home/bizon/anaconda3/lib/python3.7/site-packages (from httpx->gradio) (2019.11.28)\n",
      "Requirement already satisfied: sniffio in /home/bizon/anaconda3/lib/python3.7/site-packages (from httpx->gradio) (1.3.0)\n",
      "Requirement already satisfied: idna in /home/bizon/anaconda3/lib/python3.7/site-packages (from httpx->gradio) (2.8)\n",
      "Requirement already satisfied: httpcore<0.18.0,>=0.15.0 in /home/bizon/anaconda3/lib/python3.7/site-packages (from httpx->gradio) (0.17.3)\n",
      "Requirement already satisfied: charset-normalizer<3,>=2 in /home/bizon/anaconda3/lib/python3.7/site-packages (from requests->gradio) (2.1.1)\n",
      "Requirement already satisfied: urllib3<1.27,>=1.21.1 in /home/bizon/anaconda3/lib/python3.7/site-packages (from requests->gradio) (1.26.12)\n",
      "Requirement already satisfied: packaging>=20.9 in /home/bizon/anaconda3/lib/python3.7/site-packages (from huggingface-hub>=0.14.0->gradio) (23.2)\n",
      "Requirement already satisfied: filelock in /home/bizon/anaconda3/lib/python3.7/site-packages (from huggingface-hub>=0.14.0->gradio) (3.0.12)\n",
      "Requirement already satisfied: tqdm>=4.42.1 in /home/bizon/anaconda3/lib/python3.7/site-packages (from huggingface-hub>=0.14.0->gradio) (4.42.1)\n",
      "Requirement already satisfied: fsspec in /home/bizon/anaconda3/lib/python3.7/site-packages (from huggingface-hub>=0.14.0->gradio) (2023.1.0)\n",
      "Requirement already satisfied: pytz>=2017.2 in /home/bizon/anaconda3/lib/python3.7/site-packages (from pandas->gradio) (2019.3)\n",
      "Requirement already satisfied: starlette<0.28.0,>=0.27.0 in /home/bizon/anaconda3/lib/python3.7/site-packages (from fastapi->gradio) (0.27.0)\n",
      "Requirement already satisfied: anyio<4.0.0,>=3.7.1 in /home/bizon/anaconda3/lib/python3.7/site-packages (from fastapi->gradio) (3.7.1)\n",
      "Requirement already satisfied: pydantic-core==2.10.1 in /home/bizon/anaconda3/lib/python3.7/site-packages (from pydantic->gradio) (2.10.1)\n",
      "Requirement already satisfied: annotated-types>=0.4.0 in /home/bizon/anaconda3/lib/python3.7/site-packages (from pydantic->gradio) (0.5.0)\n",
      "Requirement already satisfied: multidict<7.0,>=4.5 in /home/bizon/anaconda3/lib/python3.7/site-packages (from aiohttp->gradio) (6.0.4)\n",
      "Requirement already satisfied: yarl<2.0,>=1.0 in /home/bizon/anaconda3/lib/python3.7/site-packages (from aiohttp->gradio) (1.9.2)\n",
      "Requirement already satisfied: aiosignal>=1.1.2 in /home/bizon/anaconda3/lib/python3.7/site-packages (from aiohttp->gradio) (1.3.1)\n",
      "Requirement already satisfied: attrs>=17.3.0 in /home/bizon/anaconda3/lib/python3.7/site-packages (from aiohttp->gradio) (19.3.0)\n",
      "Requirement already satisfied: frozenlist>=1.1.1 in /home/bizon/anaconda3/lib/python3.7/site-packages (from aiohttp->gradio) (1.3.3)\n",
      "Requirement already satisfied: asynctest==0.13.0; python_version < \"3.8\" in /home/bizon/anaconda3/lib/python3.7/site-packages (from aiohttp->gradio) (0.13.0)\n",
      "Requirement already satisfied: async-timeout<5.0,>=4.0.0a3 in /home/bizon/anaconda3/lib/python3.7/site-packages (from aiohttp->gradio) (4.0.3)\n",
      "Requirement already satisfied: zipp>=0.5 in /home/bizon/anaconda3/lib/python3.7/site-packages (from importlib-metadata; python_version < \"3.8\"->altair>=4.2.0->gradio) (2.2.0)\n",
      "Requirement already satisfied: pyrsistent>=0.14.0 in /home/bizon/anaconda3/lib/python3.7/site-packages (from jsonschema>=3.0->altair>=4.2.0->gradio) (0.15.7)\n"
     ]
    },
    {
     "name": "stdout",
     "output_type": "stream",
     "text": [
      "Requirement already satisfied: setuptools in /home/bizon/anaconda3/lib/python3.7/site-packages (from jsonschema>=3.0->altair>=4.2.0->gradio) (45.2.0.post20200210)\n",
      "Requirement already satisfied: six>=1.11.0 in /home/bizon/anaconda3/lib/python3.7/site-packages (from jsonschema>=3.0->altair>=4.2.0->gradio) (1.14.0)\n",
      "Requirement already satisfied: uc-micro-py in /home/bizon/anaconda3/lib/python3.7/site-packages (from linkify-it-py<3,>=1; extra == \"linkify\"->markdown-it-py[linkify]>=2.0.0->gradio) (1.0.2)\n",
      "Requirement already satisfied: exceptiongroup; python_version < \"3.11\" in /home/bizon/anaconda3/lib/python3.7/site-packages (from anyio<4.0.0,>=3.7.1->fastapi->gradio) (1.1.3)\n",
      "Requirement already up-to-date: fsspec in /home/bizon/anaconda3/lib/python3.7/site-packages (2023.1.0)\n",
      "Requirement already satisfied: pandas in /home/bizon/anaconda3/lib/python3.7/site-packages (1.0.1)\n",
      "Requirement already satisfied: pytz>=2017.2 in /home/bizon/anaconda3/lib/python3.7/site-packages (from pandas) (2019.3)\n",
      "Requirement already satisfied: python-dateutil>=2.6.1 in /home/bizon/anaconda3/lib/python3.7/site-packages (from pandas) (2.8.1)\n",
      "Requirement already satisfied: numpy>=1.13.3 in /home/bizon/anaconda3/lib/python3.7/site-packages (from pandas) (1.18.1)\n",
      "Requirement already satisfied: six>=1.5 in /home/bizon/anaconda3/lib/python3.7/site-packages (from python-dateutil>=2.6.1->pandas) (1.14.0)\n"
     ]
    }
   ],
   "source": [
    "!pip install gradio\n",
    "!pip install fsspec --upgrade\n",
    "!pip install pandas"
   ]
  },
  {
   "cell_type": "markdown",
   "id": "88388d8a",
   "metadata": {},
   "source": [
    "This imports the libraries that are needed for running this application."
   ]
  },
  {
   "cell_type": "code",
   "execution_count": 2,
   "id": "f450f471",
   "metadata": {},
   "outputs": [],
   "source": [
    "import pandas as pd\n",
    "import gradio as gr\n",
    "import sqlite3"
   ]
  },
  {
   "cell_type": "markdown",
   "id": "5bd87682",
   "metadata": {},
   "source": [
    "Bash script used to connect to the server and run the last command which gives us the information needed for monitoring the server. This currently uses ssh pass which may need to be installed if you get an error. This can be installed with this command in the cell below. When logging into your SSH you will need to change the username and IP address and have a text file with the servers password. Also the path to where you want your csv file saved should be specified."
   ]
  },
  {
   "cell_type": "code",
   "execution_count": 3,
   "id": "6153bb92",
   "metadata": {},
   "outputs": [
    {
     "name": "stdout",
     "output_type": "stream",
     "text": [
      "Welcome to Ubuntu 20.04 LTS (GNU/Linux 5.15.0-79-generic x86_64)\n",
      "\n",
      " * Documentation:  https://help.ubuntu.com\n",
      " * Management:     https://landscape.canonical.com\n",
      " * Support:        https://ubuntu.com/advantage\n",
      "\n",
      " * Strictly confined Kubernetes makes edge and IoT secure. Learn how MicroK8s\n",
      "   just raised the bar for easy, resilient and secure K8s cluster deployment.\n",
      "\n",
      "   https://ubuntu.com/engage/secure-kubernetes-at-the-edge\n",
      "\n",
      "190 updates can be installed immediately.\n",
      "125 of these updates are security updates.\n",
      "To see these additional updates run: apt list --upgradable\n",
      "\n",
      "Your Hardware Enablement Stack (HWE) is supported until April 2025.\n",
      "Web console: https://dl:9090/ or https://10.0.17.10:9090/\n",
      "\n"
     ]
    },
    {
     "name": "stderr",
     "output_type": "stream",
     "text": [
      "Pseudo-terminal will not be allocated because stdin is not a terminal.\r\n"
     ]
    }
   ],
   "source": [
    "%%bash\n",
    "#!/usr/bin/bash\n",
    "#How to install sshpass package\n",
    "#apt-get install sshpass\n",
    "sshpass -f password.txt ssh bizon@10.0.17.10\n",
    "cd Desktop/F_Jaramillo_Project\n",
    "output=\"$(last -s yesterday -t today)\"\n",
    "echo \"$output\" >>log.csv"
   ]
  },
  {
   "cell_type": "markdown",
   "id": "0c46f2fe",
   "metadata": {},
   "source": [
    "Creates the pandas dataframe for later use in the application."
   ]
  },
  {
   "cell_type": "code",
   "execution_count": 3,
   "id": "f4041301",
   "metadata": {},
   "outputs": [
    {
     "ename": "FileNotFoundError",
     "evalue": "[Errno 2] No such file or directory: 'log.csv'",
     "output_type": "error",
     "traceback": [
      "\u001b[1;31m---------------------------------------------------------------------------\u001b[0m",
      "\u001b[1;31mFileNotFoundError\u001b[0m                         Traceback (most recent call last)",
      "Input \u001b[1;32mIn [3]\u001b[0m, in \u001b[0;36m<cell line: 2>\u001b[1;34m()\u001b[0m\n\u001b[0;32m      1\u001b[0m names \u001b[38;5;241m=\u001b[39m [\u001b[38;5;124m'\u001b[39m\u001b[38;5;124mUsername\u001b[39m\u001b[38;5;124m'\u001b[39m, \u001b[38;5;124m'\u001b[39m\u001b[38;5;124mIP\u001b[39m\u001b[38;5;124m'\u001b[39m, \u001b[38;5;124m'\u001b[39m\u001b[38;5;124mLoginTime\u001b[39m\u001b[38;5;124m'\u001b[39m, \u001b[38;5;124m'\u001b[39m\u001b[38;5;124mLogoutTime\u001b[39m\u001b[38;5;124m'\u001b[39m, \u001b[38;5;124m'\u001b[39m\u001b[38;5;124mTotalTime\u001b[39m\u001b[38;5;124m'\u001b[39m, \u001b[38;5;124m'\u001b[39m\u001b[38;5;124mTerminal\u001b[39m\u001b[38;5;124m'\u001b[39m]\n\u001b[1;32m----> 2\u001b[0m df \u001b[38;5;241m=\u001b[39m \u001b[43mpd\u001b[49m\u001b[38;5;241;43m.\u001b[39;49m\u001b[43mread_csv\u001b[49m\u001b[43m(\u001b[49m\u001b[38;5;124;43m'\u001b[39;49m\u001b[38;5;124;43mlog.csv\u001b[39;49m\u001b[38;5;124;43m'\u001b[39;49m\u001b[43m,\u001b[49m\u001b[43m \u001b[49m\u001b[43msep\u001b[49m\u001b[38;5;241;43m=\u001b[39;49m\u001b[38;5;124;43m'\u001b[39;49m\u001b[38;5;124;43m \u001b[39;49m\u001b[38;5;124;43m'\u001b[39;49m\u001b[43m,\u001b[49m\u001b[43m \u001b[49m\u001b[43mnames\u001b[49m\u001b[38;5;241;43m=\u001b[39;49m\u001b[43mnames\u001b[49m\u001b[43m)\u001b[49m\n\u001b[0;32m      3\u001b[0m \u001b[38;5;28mprint\u001b[39m(df\u001b[38;5;241m.\u001b[39mhead())\n",
      "File \u001b[1;32m~\\AppData\\Local\\Programs\\Python\\Python39\\lib\\site-packages\\pandas\\util\\_decorators.py:311\u001b[0m, in \u001b[0;36mdeprecate_nonkeyword_arguments.<locals>.decorate.<locals>.wrapper\u001b[1;34m(*args, **kwargs)\u001b[0m\n\u001b[0;32m    305\u001b[0m \u001b[38;5;28;01mif\u001b[39;00m \u001b[38;5;28mlen\u001b[39m(args) \u001b[38;5;241m>\u001b[39m num_allow_args:\n\u001b[0;32m    306\u001b[0m     warnings\u001b[38;5;241m.\u001b[39mwarn(\n\u001b[0;32m    307\u001b[0m         msg\u001b[38;5;241m.\u001b[39mformat(arguments\u001b[38;5;241m=\u001b[39marguments),\n\u001b[0;32m    308\u001b[0m         \u001b[38;5;167;01mFutureWarning\u001b[39;00m,\n\u001b[0;32m    309\u001b[0m         stacklevel\u001b[38;5;241m=\u001b[39mstacklevel,\n\u001b[0;32m    310\u001b[0m     )\n\u001b[1;32m--> 311\u001b[0m \u001b[38;5;28;01mreturn\u001b[39;00m func(\u001b[38;5;241m*\u001b[39margs, \u001b[38;5;241m*\u001b[39m\u001b[38;5;241m*\u001b[39mkwargs)\n",
      "File \u001b[1;32m~\\AppData\\Local\\Programs\\Python\\Python39\\lib\\site-packages\\pandas\\io\\parsers\\readers.py:678\u001b[0m, in \u001b[0;36mread_csv\u001b[1;34m(filepath_or_buffer, sep, delimiter, header, names, index_col, usecols, squeeze, prefix, mangle_dupe_cols, dtype, engine, converters, true_values, false_values, skipinitialspace, skiprows, skipfooter, nrows, na_values, keep_default_na, na_filter, verbose, skip_blank_lines, parse_dates, infer_datetime_format, keep_date_col, date_parser, dayfirst, cache_dates, iterator, chunksize, compression, thousands, decimal, lineterminator, quotechar, quoting, doublequote, escapechar, comment, encoding, encoding_errors, dialect, error_bad_lines, warn_bad_lines, on_bad_lines, delim_whitespace, low_memory, memory_map, float_precision, storage_options)\u001b[0m\n\u001b[0;32m    663\u001b[0m kwds_defaults \u001b[38;5;241m=\u001b[39m _refine_defaults_read(\n\u001b[0;32m    664\u001b[0m     dialect,\n\u001b[0;32m    665\u001b[0m     delimiter,\n\u001b[1;32m   (...)\u001b[0m\n\u001b[0;32m    674\u001b[0m     defaults\u001b[38;5;241m=\u001b[39m{\u001b[38;5;124m\"\u001b[39m\u001b[38;5;124mdelimiter\u001b[39m\u001b[38;5;124m\"\u001b[39m: \u001b[38;5;124m\"\u001b[39m\u001b[38;5;124m,\u001b[39m\u001b[38;5;124m\"\u001b[39m},\n\u001b[0;32m    675\u001b[0m )\n\u001b[0;32m    676\u001b[0m kwds\u001b[38;5;241m.\u001b[39mupdate(kwds_defaults)\n\u001b[1;32m--> 678\u001b[0m \u001b[38;5;28;01mreturn\u001b[39;00m \u001b[43m_read\u001b[49m\u001b[43m(\u001b[49m\u001b[43mfilepath_or_buffer\u001b[49m\u001b[43m,\u001b[49m\u001b[43m \u001b[49m\u001b[43mkwds\u001b[49m\u001b[43m)\u001b[49m\n",
      "File \u001b[1;32m~\\AppData\\Local\\Programs\\Python\\Python39\\lib\\site-packages\\pandas\\io\\parsers\\readers.py:575\u001b[0m, in \u001b[0;36m_read\u001b[1;34m(filepath_or_buffer, kwds)\u001b[0m\n\u001b[0;32m    572\u001b[0m _validate_names(kwds\u001b[38;5;241m.\u001b[39mget(\u001b[38;5;124m\"\u001b[39m\u001b[38;5;124mnames\u001b[39m\u001b[38;5;124m\"\u001b[39m, \u001b[38;5;28;01mNone\u001b[39;00m))\n\u001b[0;32m    574\u001b[0m \u001b[38;5;66;03m# Create the parser.\u001b[39;00m\n\u001b[1;32m--> 575\u001b[0m parser \u001b[38;5;241m=\u001b[39m TextFileReader(filepath_or_buffer, \u001b[38;5;241m*\u001b[39m\u001b[38;5;241m*\u001b[39mkwds)\n\u001b[0;32m    577\u001b[0m \u001b[38;5;28;01mif\u001b[39;00m chunksize \u001b[38;5;129;01mor\u001b[39;00m iterator:\n\u001b[0;32m    578\u001b[0m     \u001b[38;5;28;01mreturn\u001b[39;00m parser\n",
      "File \u001b[1;32m~\\AppData\\Local\\Programs\\Python\\Python39\\lib\\site-packages\\pandas\\io\\parsers\\readers.py:932\u001b[0m, in \u001b[0;36mTextFileReader.__init__\u001b[1;34m(self, f, engine, **kwds)\u001b[0m\n\u001b[0;32m    929\u001b[0m     \u001b[38;5;28mself\u001b[39m\u001b[38;5;241m.\u001b[39moptions[\u001b[38;5;124m\"\u001b[39m\u001b[38;5;124mhas_index_names\u001b[39m\u001b[38;5;124m\"\u001b[39m] \u001b[38;5;241m=\u001b[39m kwds[\u001b[38;5;124m\"\u001b[39m\u001b[38;5;124mhas_index_names\u001b[39m\u001b[38;5;124m\"\u001b[39m]\n\u001b[0;32m    931\u001b[0m \u001b[38;5;28mself\u001b[39m\u001b[38;5;241m.\u001b[39mhandles: IOHandles \u001b[38;5;241m|\u001b[39m \u001b[38;5;28;01mNone\u001b[39;00m \u001b[38;5;241m=\u001b[39m \u001b[38;5;28;01mNone\u001b[39;00m\n\u001b[1;32m--> 932\u001b[0m \u001b[38;5;28mself\u001b[39m\u001b[38;5;241m.\u001b[39m_engine \u001b[38;5;241m=\u001b[39m \u001b[38;5;28;43mself\u001b[39;49m\u001b[38;5;241;43m.\u001b[39;49m\u001b[43m_make_engine\u001b[49m\u001b[43m(\u001b[49m\u001b[43mf\u001b[49m\u001b[43m,\u001b[49m\u001b[43m \u001b[49m\u001b[38;5;28;43mself\u001b[39;49m\u001b[38;5;241;43m.\u001b[39;49m\u001b[43mengine\u001b[49m\u001b[43m)\u001b[49m\n",
      "File \u001b[1;32m~\\AppData\\Local\\Programs\\Python\\Python39\\lib\\site-packages\\pandas\\io\\parsers\\readers.py:1216\u001b[0m, in \u001b[0;36mTextFileReader._make_engine\u001b[1;34m(self, f, engine)\u001b[0m\n\u001b[0;32m   1212\u001b[0m     mode \u001b[38;5;241m=\u001b[39m \u001b[38;5;124m\"\u001b[39m\u001b[38;5;124mrb\u001b[39m\u001b[38;5;124m\"\u001b[39m\n\u001b[0;32m   1213\u001b[0m \u001b[38;5;66;03m# error: No overload variant of \"get_handle\" matches argument types\u001b[39;00m\n\u001b[0;32m   1214\u001b[0m \u001b[38;5;66;03m# \"Union[str, PathLike[str], ReadCsvBuffer[bytes], ReadCsvBuffer[str]]\"\u001b[39;00m\n\u001b[0;32m   1215\u001b[0m \u001b[38;5;66;03m# , \"str\", \"bool\", \"Any\", \"Any\", \"Any\", \"Any\", \"Any\"\u001b[39;00m\n\u001b[1;32m-> 1216\u001b[0m \u001b[38;5;28mself\u001b[39m\u001b[38;5;241m.\u001b[39mhandles \u001b[38;5;241m=\u001b[39m \u001b[43mget_handle\u001b[49m\u001b[43m(\u001b[49m\u001b[43m  \u001b[49m\u001b[38;5;66;43;03m# type: ignore[call-overload]\u001b[39;49;00m\n\u001b[0;32m   1217\u001b[0m \u001b[43m    \u001b[49m\u001b[43mf\u001b[49m\u001b[43m,\u001b[49m\n\u001b[0;32m   1218\u001b[0m \u001b[43m    \u001b[49m\u001b[43mmode\u001b[49m\u001b[43m,\u001b[49m\n\u001b[0;32m   1219\u001b[0m \u001b[43m    \u001b[49m\u001b[43mencoding\u001b[49m\u001b[38;5;241;43m=\u001b[39;49m\u001b[38;5;28;43mself\u001b[39;49m\u001b[38;5;241;43m.\u001b[39;49m\u001b[43moptions\u001b[49m\u001b[38;5;241;43m.\u001b[39;49m\u001b[43mget\u001b[49m\u001b[43m(\u001b[49m\u001b[38;5;124;43m\"\u001b[39;49m\u001b[38;5;124;43mencoding\u001b[39;49m\u001b[38;5;124;43m\"\u001b[39;49m\u001b[43m,\u001b[49m\u001b[43m \u001b[49m\u001b[38;5;28;43;01mNone\u001b[39;49;00m\u001b[43m)\u001b[49m\u001b[43m,\u001b[49m\n\u001b[0;32m   1220\u001b[0m \u001b[43m    \u001b[49m\u001b[43mcompression\u001b[49m\u001b[38;5;241;43m=\u001b[39;49m\u001b[38;5;28;43mself\u001b[39;49m\u001b[38;5;241;43m.\u001b[39;49m\u001b[43moptions\u001b[49m\u001b[38;5;241;43m.\u001b[39;49m\u001b[43mget\u001b[49m\u001b[43m(\u001b[49m\u001b[38;5;124;43m\"\u001b[39;49m\u001b[38;5;124;43mcompression\u001b[39;49m\u001b[38;5;124;43m\"\u001b[39;49m\u001b[43m,\u001b[49m\u001b[43m \u001b[49m\u001b[38;5;28;43;01mNone\u001b[39;49;00m\u001b[43m)\u001b[49m\u001b[43m,\u001b[49m\n\u001b[0;32m   1221\u001b[0m \u001b[43m    \u001b[49m\u001b[43mmemory_map\u001b[49m\u001b[38;5;241;43m=\u001b[39;49m\u001b[38;5;28;43mself\u001b[39;49m\u001b[38;5;241;43m.\u001b[39;49m\u001b[43moptions\u001b[49m\u001b[38;5;241;43m.\u001b[39;49m\u001b[43mget\u001b[49m\u001b[43m(\u001b[49m\u001b[38;5;124;43m\"\u001b[39;49m\u001b[38;5;124;43mmemory_map\u001b[39;49m\u001b[38;5;124;43m\"\u001b[39;49m\u001b[43m,\u001b[49m\u001b[43m \u001b[49m\u001b[38;5;28;43;01mFalse\u001b[39;49;00m\u001b[43m)\u001b[49m\u001b[43m,\u001b[49m\n\u001b[0;32m   1222\u001b[0m \u001b[43m    \u001b[49m\u001b[43mis_text\u001b[49m\u001b[38;5;241;43m=\u001b[39;49m\u001b[43mis_text\u001b[49m\u001b[43m,\u001b[49m\n\u001b[0;32m   1223\u001b[0m \u001b[43m    \u001b[49m\u001b[43merrors\u001b[49m\u001b[38;5;241;43m=\u001b[39;49m\u001b[38;5;28;43mself\u001b[39;49m\u001b[38;5;241;43m.\u001b[39;49m\u001b[43moptions\u001b[49m\u001b[38;5;241;43m.\u001b[39;49m\u001b[43mget\u001b[49m\u001b[43m(\u001b[49m\u001b[38;5;124;43m\"\u001b[39;49m\u001b[38;5;124;43mencoding_errors\u001b[39;49m\u001b[38;5;124;43m\"\u001b[39;49m\u001b[43m,\u001b[49m\u001b[43m \u001b[49m\u001b[38;5;124;43m\"\u001b[39;49m\u001b[38;5;124;43mstrict\u001b[39;49m\u001b[38;5;124;43m\"\u001b[39;49m\u001b[43m)\u001b[49m\u001b[43m,\u001b[49m\n\u001b[0;32m   1224\u001b[0m \u001b[43m    \u001b[49m\u001b[43mstorage_options\u001b[49m\u001b[38;5;241;43m=\u001b[39;49m\u001b[38;5;28;43mself\u001b[39;49m\u001b[38;5;241;43m.\u001b[39;49m\u001b[43moptions\u001b[49m\u001b[38;5;241;43m.\u001b[39;49m\u001b[43mget\u001b[49m\u001b[43m(\u001b[49m\u001b[38;5;124;43m\"\u001b[39;49m\u001b[38;5;124;43mstorage_options\u001b[39;49m\u001b[38;5;124;43m\"\u001b[39;49m\u001b[43m,\u001b[49m\u001b[43m \u001b[49m\u001b[38;5;28;43;01mNone\u001b[39;49;00m\u001b[43m)\u001b[49m\u001b[43m,\u001b[49m\n\u001b[0;32m   1225\u001b[0m \u001b[43m\u001b[49m\u001b[43m)\u001b[49m\n\u001b[0;32m   1226\u001b[0m \u001b[38;5;28;01massert\u001b[39;00m \u001b[38;5;28mself\u001b[39m\u001b[38;5;241m.\u001b[39mhandles \u001b[38;5;129;01mis\u001b[39;00m \u001b[38;5;129;01mnot\u001b[39;00m \u001b[38;5;28;01mNone\u001b[39;00m\n\u001b[0;32m   1227\u001b[0m f \u001b[38;5;241m=\u001b[39m \u001b[38;5;28mself\u001b[39m\u001b[38;5;241m.\u001b[39mhandles\u001b[38;5;241m.\u001b[39mhandle\n",
      "File \u001b[1;32m~\\AppData\\Local\\Programs\\Python\\Python39\\lib\\site-packages\\pandas\\io\\common.py:786\u001b[0m, in \u001b[0;36mget_handle\u001b[1;34m(path_or_buf, mode, encoding, compression, memory_map, is_text, errors, storage_options)\u001b[0m\n\u001b[0;32m    781\u001b[0m \u001b[38;5;28;01melif\u001b[39;00m \u001b[38;5;28misinstance\u001b[39m(handle, \u001b[38;5;28mstr\u001b[39m):\n\u001b[0;32m    782\u001b[0m     \u001b[38;5;66;03m# Check whether the filename is to be opened in binary mode.\u001b[39;00m\n\u001b[0;32m    783\u001b[0m     \u001b[38;5;66;03m# Binary mode does not support 'encoding' and 'newline'.\u001b[39;00m\n\u001b[0;32m    784\u001b[0m     \u001b[38;5;28;01mif\u001b[39;00m ioargs\u001b[38;5;241m.\u001b[39mencoding \u001b[38;5;129;01mand\u001b[39;00m \u001b[38;5;124m\"\u001b[39m\u001b[38;5;124mb\u001b[39m\u001b[38;5;124m\"\u001b[39m \u001b[38;5;129;01mnot\u001b[39;00m \u001b[38;5;129;01min\u001b[39;00m ioargs\u001b[38;5;241m.\u001b[39mmode:\n\u001b[0;32m    785\u001b[0m         \u001b[38;5;66;03m# Encoding\u001b[39;00m\n\u001b[1;32m--> 786\u001b[0m         handle \u001b[38;5;241m=\u001b[39m \u001b[38;5;28;43mopen\u001b[39;49m\u001b[43m(\u001b[49m\n\u001b[0;32m    787\u001b[0m \u001b[43m            \u001b[49m\u001b[43mhandle\u001b[49m\u001b[43m,\u001b[49m\n\u001b[0;32m    788\u001b[0m \u001b[43m            \u001b[49m\u001b[43mioargs\u001b[49m\u001b[38;5;241;43m.\u001b[39;49m\u001b[43mmode\u001b[49m\u001b[43m,\u001b[49m\n\u001b[0;32m    789\u001b[0m \u001b[43m            \u001b[49m\u001b[43mencoding\u001b[49m\u001b[38;5;241;43m=\u001b[39;49m\u001b[43mioargs\u001b[49m\u001b[38;5;241;43m.\u001b[39;49m\u001b[43mencoding\u001b[49m\u001b[43m,\u001b[49m\n\u001b[0;32m    790\u001b[0m \u001b[43m            \u001b[49m\u001b[43merrors\u001b[49m\u001b[38;5;241;43m=\u001b[39;49m\u001b[43merrors\u001b[49m\u001b[43m,\u001b[49m\n\u001b[0;32m    791\u001b[0m \u001b[43m            \u001b[49m\u001b[43mnewline\u001b[49m\u001b[38;5;241;43m=\u001b[39;49m\u001b[38;5;124;43m\"\u001b[39;49m\u001b[38;5;124;43m\"\u001b[39;49m\u001b[43m,\u001b[49m\n\u001b[0;32m    792\u001b[0m \u001b[43m        \u001b[49m\u001b[43m)\u001b[49m\n\u001b[0;32m    793\u001b[0m     \u001b[38;5;28;01melse\u001b[39;00m:\n\u001b[0;32m    794\u001b[0m         \u001b[38;5;66;03m# Binary mode\u001b[39;00m\n\u001b[0;32m    795\u001b[0m         handle \u001b[38;5;241m=\u001b[39m \u001b[38;5;28mopen\u001b[39m(handle, ioargs\u001b[38;5;241m.\u001b[39mmode)\n",
      "\u001b[1;31mFileNotFoundError\u001b[0m: [Errno 2] No such file or directory: 'log.csv'"
     ]
    }
   ],
   "source": [
    "names = ['Username', 'IP', 'LoginTime', 'LogoutTime', 'TotalTime', 'Terminal']\n",
    "df = pd.read_csv('log.csv', sep=' ', names=names)\n",
    "print(df.head())"
   ]
  },
  {
   "cell_type": "markdown",
   "id": "ce143880",
   "metadata": {},
   "source": [
    "Establishes a connection to the sqlite database and creates a table named Table1. The cell below should only be ran once as it will produce an error if it is ran more than once. The error is produced because the table already exists and does not need to be created again."
   ]
  },
  {
   "cell_type": "code",
   "execution_count": 5,
   "id": "75c55ecd",
   "metadata": {},
   "outputs": [
    {
     "ename": "OperationalError",
     "evalue": "table Table1 already exists",
     "output_type": "error",
     "traceback": [
      "\u001b[0;31m---------------------------------------------------------------------------\u001b[0m",
      "\u001b[0;31mOperationalError\u001b[0m                          Traceback (most recent call last)",
      "\u001b[0;32m<ipython-input-5-535c0340240b>\u001b[0m in \u001b[0;36m<module>\u001b[0;34m\u001b[0m\n\u001b[1;32m     13\u001b[0m \"\"\"\n\u001b[1;32m     14\u001b[0m \u001b[0;34m\u001b[0m\u001b[0m\n\u001b[0;32m---> 15\u001b[0;31m \u001b[0mcur\u001b[0m\u001b[0;34m.\u001b[0m\u001b[0mexecute\u001b[0m\u001b[0;34m(\u001b[0m\u001b[0msql\u001b[0m\u001b[0;34m)\u001b[0m\u001b[0;34m\u001b[0m\u001b[0;34m\u001b[0m\u001b[0m\n\u001b[0m\u001b[1;32m     16\u001b[0m \u001b[0mprint\u001b[0m\u001b[0;34m(\u001b[0m\u001b[0;34m\"database has been created\"\u001b[0m\u001b[0;34m)\u001b[0m\u001b[0;34m\u001b[0m\u001b[0;34m\u001b[0m\u001b[0m\n\u001b[1;32m     17\u001b[0m \u001b[0;34m\u001b[0m\u001b[0m\n",
      "\u001b[0;31mOperationalError\u001b[0m: table Table1 already exists"
     ]
    }
   ],
   "source": [
    "conn = sqlite3.connect(\"test.db\")\n",
    "cur = conn.cursor()\n",
    "\n",
    "sql = \"\"\"\n",
    "create table Table1\n",
    "    (Username varchar(256),\n",
    "    IP varchar(256),\n",
    "    LoginTime varchar(256),\n",
    "    LogoutTime varchar(256),\n",
    "    TotalTime varchar(256),\n",
    "    Terminal varchar(256)\n",
    "    );\n",
    "\"\"\"\n",
    "\n",
    "cur.execute(sql)\n",
    "print(\"database has been created\")\n",
    "\n",
    "conn.commit()\n",
    "conn.close()"
   ]
  },
  {
   "cell_type": "markdown",
   "id": "d6d295fe",
   "metadata": {},
   "source": [
    "Pushes the information from the pandas dataframe created earlier to the newly created mysqlite database."
   ]
  },
  {
   "cell_type": "code",
   "execution_count": 6,
   "id": "3579395f",
   "metadata": {},
   "outputs": [],
   "source": [
    "conn = sqlite3.connect(\"test.db\")\n",
    "df.to_sql(\"Table1\", conn,schema=None, if_exists='append', index=False, index_label=None, chunksize=6, dtype=None, method=None)\n",
    "conn.close()"
   ]
  },
  {
   "cell_type": "markdown",
   "id": "6e0af4eb",
   "metadata": {},
   "source": [
    "Converts the information stored in the database back into a datafram for use on the gradio webpage."
   ]
  },
  {
   "cell_type": "code",
   "execution_count": 4,
   "id": "e10d37a2",
   "metadata": {},
   "outputs": [
    {
     "name": "stdout",
     "output_type": "stream",
     "text": [
      "           Username            IP   LoginTime       LogoutTime TotalTime  \\\n",
      "0             Felix  128.21.345.6       12:21             4:12   4:34:24   \n",
      "1         \"['Felix'       '12:21'   '4:34:24'          'Felix'   '12:21'   \n",
      "2  \"['128.21.345.6'        '4:12'      'tty1'   '128.21.345.6'    '4:12'   \n",
      "\n",
      "         Terminal  \n",
      "0          tty1\\n  \n",
      "1   '4:34:24']\"\\n  \n",
      "2      'tty1']\"\\n  \n"
     ]
    }
   ],
   "source": [
    "#Converts the Database to a pandas DataFrame so it can be used on the Gradio web page\n",
    "connection = sqlite3.connect(\"test.db\")\n",
    "sql = pd.read_sql_query(\"SELECT * FROM Table1\", connection)\n",
    "df = pd.DataFrame(sql, columns=[\"Username\", \"IP\",\"LoginTime\", \"LogoutTime\",\n",
    "                     \"TotalTime\",\"Terminal\"])\n",
    "connection.close()\n",
    "print(df)"
   ]
  },
  {
   "cell_type": "markdown",
   "id": "f7d6539e",
   "metadata": {},
   "source": [
    "Creates the Gradio webpage and provides 2 links. The first link being the local link and the second is a shareable link that can be sent to others that may need access."
   ]
  },
  {
   "cell_type": "code",
   "execution_count": 97,
   "id": "84652053",
   "metadata": {},
   "outputs": [
    {
     "name": "stdout",
     "output_type": "stream",
     "text": [
      "Running on local URL:  http://127.0.0.1:7897\n",
      "Running on public URL: https://443d0c62b30a04b210.gradio.live\n",
      "\n",
      "This share link expires in 72 hours. For free permanent hosting and GPU upgrades, run `gradio deploy` from Terminal to deploy to Spaces (https://huggingface.co/spaces)\n"
     ]
    },
    {
     "data": {
      "text/html": [
       "<div><iframe src=\"https://443d0c62b30a04b210.gradio.live\" width=\"100%\" height=\"500\" allow=\"autoplay; camera; microphone; clipboard-read; clipboard-write;\" frameborder=\"0\" allowfullscreen></iframe></div>"
      ],
      "text/plain": [
       "<IPython.core.display.HTML object>"
      ]
     },
     "metadata": {},
     "output_type": "display_data"
    },
    {
     "data": {
      "text/plain": []
     },
     "execution_count": 97,
     "metadata": {},
     "output_type": "execute_result"
    }
   ],
   "source": [
    "css = \"\"\"\n",
    "#warning textarea {background-color: #595cff;\n",
    "}\n",
    "\"\"\"\n",
    "\n",
    "def filter_records(Textbox, dropdown):\n",
    "    filter = df[df[dropdown] == Textbox]\n",
    "    return filter\n",
    "\n",
    "with gr.Blocks(theme=gr.themes.Base(), css=css) as first_page:\n",
    "    with gr.Tabs() as pages:\n",
    "        with gr.TabItem(\"Database\", id=0) as page1:\n",
    "            with gr.Row():\n",
    "                gr.Textbox(scale=0, show_label=False, value='Look up', elem_id=\"warning\")\n",
    "                Textbox = gr.Textbox(scale=2, show_label=False)\n",
    "                gr.Textbox(scale=0, show_label=False, value='in', elem_id=\"warning\")\n",
    "                dropdown=gr.Dropdown([\"Username\", \"IP\",\"LoginTime\", \"LogoutTime\",\n",
    "                             \"TotalTime\",\"Terminal\"],\n",
    "                             scale=2, show_label=False)\n",
    "                button = gr.Button(value=\"Search\", size='sm', scale=0)\n",
    "            with gr.Row():\n",
    "                df_info = gr.Dataframe(height=800, value=df,\n",
    "                             headers=[\"Username\", \"IP Address\",\"Login Time\", \"Logout time\",\n",
    "                             \"Total Time\",\"Terminal\"],\n",
    "                             datatype=[\"str\", \"str\", \"str\", \"str\", \"str\", \"str\"],\n",
    "                             row_count=10,\n",
    "                             col_count=(6, \"fixed\"))\n",
    "        with gr.TabItem(\"Search Results\", id=1) as page2:\n",
    "            gr.Label=()\n",
    "            button.click(fn=filter_records, inputs=[Textbox, dropdown],outputs=[gr.Dataframe(headers=[\"Username\", \"IP Address\",\"Login Time\", \"Logout time\",\n",
    "                                 \"Total Time\",\"Terminal\"])])\n",
    "first_page.launch(share=True)"
   ]
  },
  {
   "cell_type": "code",
   "execution_count": null,
   "id": "6d859295",
   "metadata": {},
   "outputs": [],
   "source": []
  }
 ],
 "metadata": {
  "kernelspec": {
   "display_name": "Python 3 (ipykernel)",
   "language": "python",
   "name": "python3"
  },
  "language_info": {
   "codemirror_mode": {
    "name": "ipython",
    "version": 3
   },
   "file_extension": ".py",
   "mimetype": "text/x-python",
   "name": "python",
   "nbconvert_exporter": "python",
   "pygments_lexer": "ipython3",
   "version": "3.9.7"
  }
 },
 "nbformat": 4,
 "nbformat_minor": 5
}
