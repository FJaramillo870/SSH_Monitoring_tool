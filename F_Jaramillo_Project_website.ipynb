{
 "cells": [
  {
   "cell_type": "markdown",
   "id": "f6fc9327",
   "metadata": {},
   "source": [
    "# installs requirements"
   ]
  },
  {
   "cell_type": "code",
   "execution_count": 1,
   "id": "d153ed48",
   "metadata": {},
   "outputs": [
    {
     "name": "stdout",
     "output_type": "stream",
     "text": [
      "Collecting gradio\n",
      "  Obtaining dependency information for gradio from https://files.pythonhosted.org/packages/01/12/db61f50001a9c7e0a6465543435b28d16c7fcbde8ca58f31f5a5657de203/gradio-4.2.0-py3-none-any.whl.metadata\n",
      "  Downloading gradio-4.2.0-py3-none-any.whl.metadata (17 kB)\n",
      "Collecting aiofiles<24.0,>=22.0 (from gradio)\n",
      "  Obtaining dependency information for aiofiles<24.0,>=22.0 from https://files.pythonhosted.org/packages/c5/19/5af6804c4cc0fed83f47bff6e413a98a36618e7d40185cd36e69737f3b0e/aiofiles-23.2.1-py3-none-any.whl.metadata\n",
      "  Using cached aiofiles-23.2.1-py3-none-any.whl.metadata (9.7 kB)\n",
      "Collecting altair<6.0,>=4.2.0 (from gradio)\n",
      "  Obtaining dependency information for altair<6.0,>=4.2.0 from https://files.pythonhosted.org/packages/17/16/b12fca347ff9d062e3c44ad9641d2ec50364570a059f3078ada3a5119d7a/altair-5.1.2-py3-none-any.whl.metadata\n",
      "  Using cached altair-5.1.2-py3-none-any.whl.metadata (8.6 kB)\n",
      "Collecting fastapi (from gradio)\n",
      "  Obtaining dependency information for fastapi from https://files.pythonhosted.org/packages/f3/4f/0ce34195b63240b6693086496c9bab4ef23999112184399a3e88854c7674/fastapi-0.104.1-py3-none-any.whl.metadata\n",
      "  Downloading fastapi-0.104.1-py3-none-any.whl.metadata (24 kB)\n",
      "Requirement already satisfied: ffmpy in c:\\python311\\lib\\site-packages (from gradio) (0.3.1)\n",
      "Collecting gradio-client==0.7.0 (from gradio)\n",
      "  Obtaining dependency information for gradio-client==0.7.0 from https://files.pythonhosted.org/packages/34/0d/94ef1fe636519984b50a1a8dc1339601e45af32b9cf7e78c67e595a75c73/gradio_client-0.7.0-py3-none-any.whl.metadata\n",
      "  Downloading gradio_client-0.7.0-py3-none-any.whl.metadata (7.1 kB)\n",
      "Collecting httpx (from gradio)\n",
      "  Obtaining dependency information for httpx from https://files.pythonhosted.org/packages/82/61/a5fca4a1e88e40969bbd0cf0d981f3aa76d5057db160b94f49603fc18740/httpx-0.25.1-py3-none-any.whl.metadata\n",
      "  Downloading httpx-0.25.1-py3-none-any.whl.metadata (7.1 kB)\n",
      "Collecting huggingface-hub>=0.14.0 (from gradio)\n",
      "  Obtaining dependency information for huggingface-hub>=0.14.0 from https://files.pythonhosted.org/packages/65/cc/2891260847777eb9aaca278aaf3f846c9ff8ea1351643a4f33ff26d5d213/huggingface_hub-0.19.1-py3-none-any.whl.metadata\n",
      "  Downloading huggingface_hub-0.19.1-py3-none-any.whl.metadata (13 kB)\n",
      "Collecting importlib-resources<7.0,>=1.3 (from gradio)\n",
      "  Obtaining dependency information for importlib-resources<7.0,>=1.3 from https://files.pythonhosted.org/packages/93/e8/facde510585869b5ec694e8e0363ffe4eba067cb357a8398a55f6a1f8023/importlib_resources-6.1.1-py3-none-any.whl.metadata\n",
      "  Downloading importlib_resources-6.1.1-py3-none-any.whl.metadata (4.1 kB)\n",
      "Collecting jinja2<4.0 (from gradio)\n",
      "  Using cached Jinja2-3.1.2-py3-none-any.whl (133 kB)\n",
      "Collecting markupsafe~=2.0 (from gradio)\n",
      "  Obtaining dependency information for markupsafe~=2.0 from https://files.pythonhosted.org/packages/be/bb/08b85bc194034efbf572e70c3951549c8eca0ada25363afc154386b5390a/MarkupSafe-2.1.3-cp311-cp311-win_amd64.whl.metadata\n",
      "  Using cached MarkupSafe-2.1.3-cp311-cp311-win_amd64.whl.metadata (3.1 kB)\n",
      "Collecting matplotlib~=3.0 (from gradio)\n",
      "  Obtaining dependency information for matplotlib~=3.0 from https://files.pythonhosted.org/packages/59/e2/6b155713e8da8274367b41315b66260f9d3c52d9f4b26336ddc3986ba612/matplotlib-3.8.1-cp311-cp311-win_amd64.whl.metadata\n",
      "  Downloading matplotlib-3.8.1-cp311-cp311-win_amd64.whl.metadata (5.9 kB)\n",
      "Requirement already satisfied: numpy~=1.0 in c:\\python311\\lib\\site-packages (from gradio) (1.26.0)\n",
      "Requirement already satisfied: orjson~=3.0 in c:\\python311\\lib\\site-packages (from gradio) (3.9.7)\n",
      "Requirement already satisfied: packaging in c:\\python311\\lib\\site-packages (from gradio) (23.2)\n",
      "Collecting pandas<3.0,>=1.0 (from gradio)\n",
      "  Obtaining dependency information for pandas<3.0,>=1.0 from https://files.pythonhosted.org/packages/97/d8/dc2f6bff06a799a5603c414afc6de39c6351fe34892d50b6a077df3be6ac/pandas-2.1.3-cp311-cp311-win_amd64.whl.metadata\n",
      "  Downloading pandas-2.1.3-cp311-cp311-win_amd64.whl.metadata (18 kB)\n",
      "Requirement already satisfied: pillow<11.0,>=8.0 in c:\\python311\\lib\\site-packages (from gradio) (10.0.1)\n",
      "Collecting pydantic>=2.0 (from gradio)\n",
      "  Obtaining dependency information for pydantic>=2.0 from https://files.pythonhosted.org/packages/d7/10/ddfb9539a6e55f7dfd6c2b9b81d86fcba2761ba87eeb81f8b1012957dcdc/pydantic-2.5.0-py3-none-any.whl.metadata\n",
      "  Downloading pydantic-2.5.0-py3-none-any.whl.metadata (174 kB)\n",
      "     -------------------------------------- 174.6/174.6 kB 3.5 MB/s eta 0:00:00\n",
      "Requirement already satisfied: pydub in c:\\python311\\lib\\site-packages (from gradio) (0.25.1)\n",
      "Requirement already satisfied: python-multipart in c:\\python311\\lib\\site-packages (from gradio) (0.0.6)\n",
      "Requirement already satisfied: pyyaml<7.0,>=5.0 in c:\\python311\\lib\\site-packages (from gradio) (6.0.1)\n",
      "Collecting requests~=2.0 (from gradio)\n",
      "  Obtaining dependency information for requests~=2.0 from https://files.pythonhosted.org/packages/70/8e/0e2d847013cb52cd35b38c009bb167a1a26b2ce6cd6965bf26b47bc0bf44/requests-2.31.0-py3-none-any.whl.metadata\n",
      "  Using cached requests-2.31.0-py3-none-any.whl.metadata (4.6 kB)\n",
      "Requirement already satisfied: semantic-version~=2.0 in c:\\python311\\lib\\site-packages (from gradio) (2.10.0)\n",
      "Collecting tomlkit==0.12.0 (from gradio)\n",
      "  Obtaining dependency information for tomlkit==0.12.0 from https://files.pythonhosted.org/packages/68/4f/12207897848a653d03ebbf6775a29d949408ded5f99b2d87198bc5c93508/tomlkit-0.12.0-py3-none-any.whl.metadata\n",
      "  Downloading tomlkit-0.12.0-py3-none-any.whl.metadata (2.7 kB)\n",
      "Collecting typer[all]<1.0,>=0.9 (from gradio)\n",
      "  Using cached typer-0.9.0-py3-none-any.whl (45 kB)\n",
      "Requirement already satisfied: typing-extensions~=4.0 in c:\\python311\\lib\\site-packages (from gradio) (4.8.0)\n",
      "Collecting uvicorn>=0.14.0 (from gradio)\n",
      "  Obtaining dependency information for uvicorn>=0.14.0 from https://files.pythonhosted.org/packages/7e/17/4b7a76fffa7babf397481040d8aef2725b2b81ae19f1a31b5ca0c17d49e6/uvicorn-0.24.0.post1-py3-none-any.whl.metadata\n",
      "  Downloading uvicorn-0.24.0.post1-py3-none-any.whl.metadata (6.4 kB)\n",
      "Requirement already satisfied: websockets<12.0,>=10.0 in c:\\python311\\lib\\site-packages (from gradio) (11.0.3)\n",
      "Collecting fsspec (from gradio-client==0.7.0->gradio)\n",
      "  Obtaining dependency information for fsspec from https://files.pythonhosted.org/packages/e8/f6/3eccfb530aac90ad1301c582da228e4763f19e719ac8200752a4841b0b2d/fsspec-2023.10.0-py3-none-any.whl.metadata\n",
      "  Downloading fsspec-2023.10.0-py3-none-any.whl.metadata (6.8 kB)\n",
      "Collecting jsonschema>=3.0 (from altair<6.0,>=4.2.0->gradio)\n",
      "  Obtaining dependency information for jsonschema>=3.0 from https://files.pythonhosted.org/packages/ce/aa/d1bd0b5ec568a903cc3ebcb6b096ab65c1d971c8a01ca3bf3cf788c3c646/jsonschema-4.19.2-py3-none-any.whl.metadata\n",
      "  Downloading jsonschema-4.19.2-py3-none-any.whl.metadata (7.9 kB)\n",
      "Requirement already satisfied: toolz in c:\\python311\\lib\\site-packages (from altair<6.0,>=4.2.0->gradio) (0.12.0)\n",
      "Collecting filelock (from huggingface-hub>=0.14.0->gradio)\n",
      "  Obtaining dependency information for filelock from https://files.pythonhosted.org/packages/81/54/84d42a0bee35edba99dee7b59a8d4970eccdd44b99fe728ed912106fc781/filelock-3.13.1-py3-none-any.whl.metadata\n",
      "  Downloading filelock-3.13.1-py3-none-any.whl.metadata (2.8 kB)\n",
      "Collecting tqdm>=4.42.1 (from huggingface-hub>=0.14.0->gradio)\n",
      "  Obtaining dependency information for tqdm>=4.42.1 from https://files.pythonhosted.org/packages/00/e5/f12a80907d0884e6dff9c16d0c0114d81b8cd07dc3ae54c5e962cc83037e/tqdm-4.66.1-py3-none-any.whl.metadata\n",
      "  Using cached tqdm-4.66.1-py3-none-any.whl.metadata (57 kB)\n",
      "Collecting contourpy>=1.0.1 (from matplotlib~=3.0->gradio)\n",
      "  Obtaining dependency information for contourpy>=1.0.1 from https://files.pythonhosted.org/packages/ca/2a/d197a412ec474391ee878b1218cf2fe9c6e963903755887fc5654c06636a/contourpy-1.2.0-cp311-cp311-win_amd64.whl.metadata\n",
      "  Downloading contourpy-1.2.0-cp311-cp311-win_amd64.whl.metadata (5.8 kB)\n",
      "Collecting cycler>=0.10 (from matplotlib~=3.0->gradio)\n",
      "  Obtaining dependency information for cycler>=0.10 from https://files.pythonhosted.org/packages/e7/05/c19819d5e3d95294a6f5947fb9b9629efb316b96de511b418c53d245aae6/cycler-0.12.1-py3-none-any.whl.metadata\n",
      "  Downloading cycler-0.12.1-py3-none-any.whl.metadata (3.8 kB)\n",
      "Collecting fonttools>=4.22.0 (from matplotlib~=3.0->gradio)\n",
      "  Obtaining dependency information for fonttools>=4.22.0 from https://files.pythonhosted.org/packages/a0/90/e58e06130ffaf7859959a128fe11ad6533d3e5f4ecf65ecba7464981afdd/fonttools-4.44.0-cp311-cp311-win_amd64.whl.metadata\n",
      "  Downloading fonttools-4.44.0-cp311-cp311-win_amd64.whl.metadata (156 kB)\n",
      "     -------------------------------------- 156.8/156.8 kB 3.1 MB/s eta 0:00:00\n",
      "Collecting kiwisolver>=1.3.1 (from matplotlib~=3.0->gradio)\n",
      "  Obtaining dependency information for kiwisolver>=1.3.1 from https://files.pythonhosted.org/packages/1e/37/d3c2d4ba2719059a0f12730947bbe1ad5ee8bff89e8c35319dcb2c9ddb4c/kiwisolver-1.4.5-cp311-cp311-win_amd64.whl.metadata\n",
      "  Using cached kiwisolver-1.4.5-cp311-cp311-win_amd64.whl.metadata (6.5 kB)\n",
      "Requirement already satisfied: pyparsing>=2.3.1 in c:\\python311\\lib\\site-packages (from matplotlib~=3.0->gradio) (3.1.1)\n",
      "Collecting python-dateutil>=2.7 (from matplotlib~=3.0->gradio)\n",
      "  Using cached python_dateutil-2.8.2-py2.py3-none-any.whl (247 kB)\n",
      "Requirement already satisfied: pytz>=2020.1 in c:\\python311\\lib\\site-packages (from pandas<3.0,>=1.0->gradio) (2023.3.post1)\n",
      "Requirement already satisfied: tzdata>=2022.1 in c:\\python311\\lib\\site-packages (from pandas<3.0,>=1.0->gradio) (2023.3)\n",
      "Collecting annotated-types>=0.4.0 (from pydantic>=2.0->gradio)\n",
      "  Obtaining dependency information for annotated-types>=0.4.0 from https://files.pythonhosted.org/packages/28/78/d31230046e58c207284c6b2c4e8d96e6d3cb4e52354721b944d3e1ee4aa5/annotated_types-0.6.0-py3-none-any.whl.metadata\n",
      "  Downloading annotated_types-0.6.0-py3-none-any.whl.metadata (12 kB)\n",
      "Collecting pydantic-core==2.14.1 (from pydantic>=2.0->gradio)\n",
      "  Obtaining dependency information for pydantic-core==2.14.1 from https://files.pythonhosted.org/packages/15/8e/68d3a522ac31e782e3ae95ddc7b4ec4bea0f5c552a98f85abdee6696a607/pydantic_core-2.14.1-cp311-none-win_amd64.whl.metadata\n",
      "  Downloading pydantic_core-2.14.1-cp311-none-win_amd64.whl.metadata (6.6 kB)\n",
      "Collecting charset-normalizer<4,>=2 (from requests~=2.0->gradio)\n",
      "  Obtaining dependency information for charset-normalizer<4,>=2 from https://files.pythonhosted.org/packages/57/ec/80c8d48ac8b1741d5b963797b7c0c869335619e13d4744ca2f67fc11c6fc/charset_normalizer-3.3.2-cp311-cp311-win_amd64.whl.metadata\n",
      "  Downloading charset_normalizer-3.3.2-cp311-cp311-win_amd64.whl.metadata (34 kB)\n",
      "Collecting idna<4,>=2.5 (from requests~=2.0->gradio)\n",
      "  Using cached idna-3.4-py3-none-any.whl (61 kB)\n",
      "Requirement already satisfied: urllib3<3,>=1.21.1 in c:\\python311\\lib\\site-packages (from requests~=2.0->gradio) (2.0.6)\n",
      "Collecting certifi>=2017.4.17 (from requests~=2.0->gradio)\n",
      "  Obtaining dependency information for certifi>=2017.4.17 from https://files.pythonhosted.org/packages/4c/dd/2234eab22353ffc7d94e8d13177aaa050113286e93e7b40eae01fbf7c3d9/certifi-2023.7.22-py3-none-any.whl.metadata\n",
      "  Using cached certifi-2023.7.22-py3-none-any.whl.metadata (2.2 kB)\n",
      "Collecting click<9.0.0,>=7.1.1 (from typer[all]<1.0,>=0.9->gradio)\n",
      "  Obtaining dependency information for click<9.0.0,>=7.1.1 from https://files.pythonhosted.org/packages/00/2e/d53fa4befbf2cfa713304affc7ca780ce4fc1fd8710527771b58311a3229/click-8.1.7-py3-none-any.whl.metadata\n",
      "  Using cached click-8.1.7-py3-none-any.whl.metadata (3.0 kB)\n",
      "Collecting colorama<0.5.0,>=0.4.3 (from typer[all]<1.0,>=0.9->gradio)\n",
      "  Using cached colorama-0.4.6-py2.py3-none-any.whl (25 kB)\n",
      "Collecting shellingham<2.0.0,>=1.3.0 (from typer[all]<1.0,>=0.9->gradio)\n",
      "  Obtaining dependency information for shellingham<2.0.0,>=1.3.0 from https://files.pythonhosted.org/packages/e0/f9/0595336914c5619e5f28a1fb793285925a8cd4b432c9da0a987836c7f822/shellingham-1.5.4-py2.py3-none-any.whl.metadata\n",
      "  Downloading shellingham-1.5.4-py2.py3-none-any.whl.metadata (3.5 kB)\n",
      "Collecting rich<14.0.0,>=10.11.0 (from typer[all]<1.0,>=0.9->gradio)\n",
      "  Obtaining dependency information for rich<14.0.0,>=10.11.0 from https://files.pythonhosted.org/packages/be/2a/4e62ff633612f746f88618852a626bbe24226eba5e7ac90e91dcfd6a414e/rich-13.6.0-py3-none-any.whl.metadata\n",
      "  Downloading rich-13.6.0-py3-none-any.whl.metadata (18 kB)\n",
      "Collecting h11>=0.8 (from uvicorn>=0.14.0->gradio)\n",
      "  Using cached h11-0.14.0-py3-none-any.whl (58 kB)\n",
      "Collecting anyio<4.0.0,>=3.7.1 (from fastapi->gradio)\n",
      "  Obtaining dependency information for anyio<4.0.0,>=3.7.1 from https://files.pythonhosted.org/packages/19/24/44299477fe7dcc9cb58d0a57d5a7588d6af2ff403fdd2d47a246c91a3246/anyio-3.7.1-py3-none-any.whl.metadata\n",
      "  Using cached anyio-3.7.1-py3-none-any.whl.metadata (4.7 kB)\n",
      "Collecting starlette<0.28.0,>=0.27.0 (from fastapi->gradio)\n",
      "  Obtaining dependency information for starlette<0.28.0,>=0.27.0 from https://files.pythonhosted.org/packages/58/f8/e2cca22387965584a409795913b774235752be4176d276714e15e1a58884/starlette-0.27.0-py3-none-any.whl.metadata\n",
      "  Using cached starlette-0.27.0-py3-none-any.whl.metadata (5.8 kB)\n",
      "Collecting httpcore (from httpx->gradio)\n",
      "  Obtaining dependency information for httpcore from https://files.pythonhosted.org/packages/56/ba/78b0a99c4da0ff8b0f59defa2f13ca4668189b134bd9840b6202a93d9a0f/httpcore-1.0.2-py3-none-any.whl.metadata\n",
      "  Downloading httpcore-1.0.2-py3-none-any.whl.metadata (20 kB)\n",
      "Requirement already satisfied: sniffio in c:\\python311\\lib\\site-packages (from httpx->gradio) (1.3.0)\n",
      "Collecting attrs>=22.2.0 (from jsonschema>=3.0->altair<6.0,>=4.2.0->gradio)\n",
      "  Using cached attrs-23.1.0-py3-none-any.whl (61 kB)\n",
      "Collecting jsonschema-specifications>=2023.03.6 (from jsonschema>=3.0->altair<6.0,>=4.2.0->gradio)\n",
      "  Obtaining dependency information for jsonschema-specifications>=2023.03.6 from https://files.pythonhosted.org/packages/1c/24/83349ac2189cc2435e84da3f69ba3c97314d3c0622628e55171c6798ed80/jsonschema_specifications-2023.7.1-py3-none-any.whl.metadata\n",
      "  Using cached jsonschema_specifications-2023.7.1-py3-none-any.whl.metadata (2.8 kB)\n",
      "Collecting referencing>=0.28.4 (from jsonschema>=3.0->altair<6.0,>=4.2.0->gradio)\n",
      "  Obtaining dependency information for referencing>=0.28.4 from https://files.pythonhosted.org/packages/be/8e/56d6f1e2d591f4d6cbcba446cac4a1b0dc4f584537e2071d9bcee8eeab6b/referencing-0.30.2-py3-none-any.whl.metadata\n",
      "  Using cached referencing-0.30.2-py3-none-any.whl.metadata (2.6 kB)\n",
      "Requirement already satisfied: rpds-py>=0.7.1 in c:\\python311\\lib\\site-packages (from jsonschema>=3.0->altair<6.0,>=4.2.0->gradio) (0.10.3)\n",
      "Requirement already satisfied: six>=1.5 in c:\\python311\\lib\\site-packages (from python-dateutil>=2.7->matplotlib~=3.0->gradio) (1.16.0)\n",
      "Collecting markdown-it-py>=2.2.0 (from rich<14.0.0,>=10.11.0->typer[all]<1.0,>=0.9->gradio)\n",
      "  Obtaining dependency information for markdown-it-py>=2.2.0 from https://files.pythonhosted.org/packages/42/d7/1ec15b46af6af88f19b8e5ffea08fa375d433c998b8a7639e76935c14f1f/markdown_it_py-3.0.0-py3-none-any.whl.metadata\n",
      "  Downloading markdown_it_py-3.0.0-py3-none-any.whl.metadata (6.9 kB)\n",
      "Collecting pygments<3.0.0,>=2.13.0 (from rich<14.0.0,>=10.11.0->typer[all]<1.0,>=0.9->gradio)\n",
      "  Obtaining dependency information for pygments<3.0.0,>=2.13.0 from https://files.pythonhosted.org/packages/43/88/29adf0b44ba6ac85045e63734ae0997d3c58d8b1a91c914d240828d0d73d/Pygments-2.16.1-py3-none-any.whl.metadata\n",
      "  Downloading Pygments-2.16.1-py3-none-any.whl.metadata (2.5 kB)\n",
      "Collecting mdurl~=0.1 (from markdown-it-py>=2.2.0->rich<14.0.0,>=10.11.0->typer[all]<1.0,>=0.9->gradio)\n",
      "  Downloading mdurl-0.1.2-py3-none-any.whl (10.0 kB)\n",
      "Downloading gradio-4.2.0-py3-none-any.whl (15.4 MB)\n",
      "   ---------------------------------------- 15.4/15.4 MB 8.7 MB/s eta 0:00:00\n",
      "Downloading gradio_client-0.7.0-py3-none-any.whl (302 kB)\n",
      "   ---------------------------------------- 302.7/302.7 kB 9.4 MB/s eta 0:00:00\n",
      "Downloading tomlkit-0.12.0-py3-none-any.whl (37 kB)\n",
      "Using cached aiofiles-23.2.1-py3-none-any.whl (15 kB)\n",
      "Using cached altair-5.1.2-py3-none-any.whl (516 kB)\n",
      "Downloading huggingface_hub-0.19.1-py3-none-any.whl (311 kB)\n",
      "   ---------------------------------------- 311.1/311.1 kB 9.4 MB/s eta 0:00:00\n",
      "Downloading importlib_resources-6.1.1-py3-none-any.whl (33 kB)\n",
      "Using cached MarkupSafe-2.1.3-cp311-cp311-win_amd64.whl (17 kB)\n",
      "Downloading matplotlib-3.8.1-cp311-cp311-win_amd64.whl (7.6 MB)\n",
      "   ---------------------------------------- 7.6/7.6 MB 9.1 MB/s eta 0:00:00\n",
      "Downloading pandas-2.1.3-cp311-cp311-win_amd64.whl (10.6 MB)\n",
      "   ---------------------------------------- 10.6/10.6 MB 8.7 MB/s eta 0:00:00\n",
      "Downloading pydantic-2.5.0-py3-none-any.whl (407 kB)\n",
      "   --------------------------------------- 407.5/407.5 kB 12.4 MB/s eta 0:00:00\n",
      "Downloading pydantic_core-2.14.1-cp311-none-win_amd64.whl (1.9 MB)\n",
      "   ---------------------------------------- 1.9/1.9 MB 8.0 MB/s eta 0:00:00\n",
      "Using cached requests-2.31.0-py3-none-any.whl (62 kB)\n",
      "Downloading uvicorn-0.24.0.post1-py3-none-any.whl (59 kB)\n",
      "   ---------------------------------------- 59.7/59.7 kB 3.1 MB/s eta 0:00:00\n",
      "Downloading fastapi-0.104.1-py3-none-any.whl (92 kB)\n",
      "   ---------------------------------------- 92.9/92.9 kB ? eta 0:00:00\n",
      "Downloading httpx-0.25.1-py3-none-any.whl (75 kB)\n",
      "   ---------------------------------------- 75.0/75.0 kB ? eta 0:00:00\n",
      "Using cached annotated_types-0.6.0-py3-none-any.whl (12 kB)\n",
      "Using cached anyio-3.7.1-py3-none-any.whl (80 kB)\n",
      "Using cached certifi-2023.7.22-py3-none-any.whl (158 kB)\n",
      "Downloading charset_normalizer-3.3.2-cp311-cp311-win_amd64.whl (99 kB)\n",
      "   ---------------------------------------- 99.9/99.9 kB 5.6 MB/s eta 0:00:00\n",
      "Using cached click-8.1.7-py3-none-any.whl (97 kB)\n",
      "Downloading contourpy-1.2.0-cp311-cp311-win_amd64.whl (187 kB)\n",
      "   --------------------------------------- 187.6/187.6 kB 11.1 MB/s eta 0:00:00\n",
      "Using cached cycler-0.12.1-py3-none-any.whl (8.3 kB)\n",
      "Downloading fonttools-4.44.0-cp311-cp311-win_amd64.whl (2.1 MB)\n",
      "   ---------------------------------------- 2.1/2.1 MB 10.5 MB/s eta 0:00:00\n",
      "Using cached fsspec-2023.10.0-py3-none-any.whl (166 kB)\n",
      "Downloading jsonschema-4.19.2-py3-none-any.whl (83 kB)\n",
      "   ---------------------------------------- 83.6/83.6 kB 4.6 MB/s eta 0:00:00\n",
      "Using cached kiwisolver-1.4.5-cp311-cp311-win_amd64.whl (56 kB)\n",
      "Downloading rich-13.6.0-py3-none-any.whl (239 kB)\n",
      "   ---------------------------------------- 239.8/239.8 kB 7.4 MB/s eta 0:00:00\n",
      "Downloading shellingham-1.5.4-py2.py3-none-any.whl (9.8 kB)\n",
      "Using cached starlette-0.27.0-py3-none-any.whl (66 kB)\n",
      "Using cached tqdm-4.66.1-py3-none-any.whl (78 kB)\n",
      "Downloading filelock-3.13.1-py3-none-any.whl (11 kB)\n",
      "Downloading httpcore-1.0.2-py3-none-any.whl (76 kB)\n",
      "   ---------------------------------------- 76.9/76.9 kB ? eta 0:00:00\n",
      "Using cached jsonschema_specifications-2023.7.1-py3-none-any.whl (17 kB)\n",
      "Downloading markdown_it_py-3.0.0-py3-none-any.whl (87 kB)\n",
      "   ---------------------------------------- 87.5/87.5 kB ? eta 0:00:00\n",
      "Downloading Pygments-2.16.1-py3-none-any.whl (1.2 MB)\n",
      "   ---------------------------------------- 1.2/1.2 MB 7.4 MB/s eta 0:00:00\n",
      "Using cached referencing-0.30.2-py3-none-any.whl (25 kB)\n",
      "Installing collected packages: tomlkit, shellingham, python-dateutil, pygments, pydantic-core, mdurl, markupsafe, kiwisolver, importlib-resources, idna, h11, fsspec, fonttools, filelock, cycler, contourpy, colorama, charset-normalizer, certifi, attrs, annotated-types, aiofiles, tqdm, requests, referencing, pydantic, pandas, matplotlib, markdown-it-py, jinja2, httpcore, click, anyio, uvicorn, typer, starlette, rich, jsonschema-specifications, huggingface-hub, httpx, jsonschema, gradio-client, fastapi, altair, gradio\n"
     ]
    },
    {
     "name": "stderr",
     "output_type": "stream",
     "text": [
      "  WARNING: Failed to write executable - trying to use .deleteme logic\n",
      "ERROR: Could not install packages due to an OSError: [WinError 2] The system cannot find the file specified: 'C:\\\\Python311\\\\Scripts\\\\pygmentize.exe' -> 'C:\\\\Python311\\\\Scripts\\\\pygmentize.exe.deleteme'\n",
      "\n",
      "\n",
      "[notice] A new release of pip is available: 23.2.1 -> 23.3.1\n",
      "[notice] To update, run: python.exe -m pip install --upgrade pip\n"
     ]
    },
    {
     "name": "stdout",
     "output_type": "stream",
     "text": [
      "Collecting fsspec\n",
      "  Obtaining dependency information for fsspec from https://files.pythonhosted.org/packages/e8/f6/3eccfb530aac90ad1301c582da228e4763f19e719ac8200752a4841b0b2d/fsspec-2023.10.0-py3-none-any.whl.metadata\n",
      "  Using cached fsspec-2023.10.0-py3-none-any.whl.metadata (6.8 kB)\n",
      "Using cached fsspec-2023.10.0-py3-none-any.whl (166 kB)\n",
      "Installing collected packages: fsspec\n",
      "Successfully installed fsspec-2023.10.0\n"
     ]
    },
    {
     "name": "stderr",
     "output_type": "stream",
     "text": [
      "\n",
      "[notice] A new release of pip is available: 23.2.1 -> 23.3.1\n",
      "[notice] To update, run: python.exe -m pip install --upgrade pip\n"
     ]
    },
    {
     "name": "stdout",
     "output_type": "stream",
     "text": [
      "Collecting pandas\n",
      "  Obtaining dependency information for pandas from https://files.pythonhosted.org/packages/97/d8/dc2f6bff06a799a5603c414afc6de39c6351fe34892d50b6a077df3be6ac/pandas-2.1.3-cp311-cp311-win_amd64.whl.metadata\n",
      "  Using cached pandas-2.1.3-cp311-cp311-win_amd64.whl.metadata (18 kB)\n",
      "Requirement already satisfied: numpy<2,>=1.23.2 in c:\\python311\\lib\\site-packages (from pandas) (1.26.0)\n",
      "Requirement already satisfied: python-dateutil>=2.8.2 in c:\\python311\\lib\\site-packages (from pandas) (2.8.2)\n",
      "Requirement already satisfied: pytz>=2020.1 in c:\\python311\\lib\\site-packages (from pandas) (2023.3.post1)\n",
      "Requirement already satisfied: tzdata>=2022.1 in c:\\python311\\lib\\site-packages (from pandas) (2023.3)\n",
      "Requirement already satisfied: six>=1.5 in c:\\python311\\lib\\site-packages (from python-dateutil>=2.8.2->pandas) (1.16.0)\n",
      "Using cached pandas-2.1.3-cp311-cp311-win_amd64.whl (10.6 MB)\n",
      "Installing collected packages: pandas\n",
      "Successfully installed pandas-2.1.3\n"
     ]
    },
    {
     "name": "stderr",
     "output_type": "stream",
     "text": [
      "\n",
      "[notice] A new release of pip is available: 23.2.1 -> 23.3.1\n",
      "[notice] To update, run: python.exe -m pip install --upgrade pip\n"
     ]
    }
   ],
   "source": [
    "!pip install gradio\n",
    "!pip install fsspec --upgrade\n",
    "!pip install pandas"
   ]
  },
  {
   "cell_type": "code",
   "execution_count": 2,
   "id": "605efedb",
   "metadata": {},
   "outputs": [],
   "source": [
    "# Imports\n",
    "import pandas as pd\n",
    "import gradio as gr\n",
    "import sqlite3"
   ]
  },
  {
   "cell_type": "code",
   "execution_count": 3,
   "id": "58672774",
   "metadata": {},
   "outputs": [
    {
     "name": "stderr",
     "output_type": "stream",
     "text": [
      "-bash: line 5: sshpass: command not found\n",
      "-bash: line 6: cd: Desktop/F_Jaramillo_Project: No such file or directory\n"
     ]
    }
   ],
   "source": [
    "%%bash\n",
    "# Connects to the Server and Runs the last command\n",
    "#!/usr/bin/bash\n",
    "#How to install sshpass package\n",
    "#last -s yesterday -t today\n",
    "sshpass -f password.txt ssh user@IP ADDRESS\n",
    "cd Desktop/F_Jaramillo_Project\n",
    "output=\"$(last -s yesterday -t today)\"\n",
    "echo \"$output\" >>log.csv"
   ]
  },
  {
   "cell_type": "code",
   "execution_count": 4,
   "id": "df050f43",
   "metadata": {},
   "outputs": [
    {
     "name": "stdout",
     "output_type": "stream",
     "text": [
      "     Username   IP LoginTime  LogoutTime TotalTime  Terminal\n",
      "wtmp   begins  Sat       Oct          21  16:28:14      2023\n"
     ]
    }
   ],
   "source": [
    "names = ['Username', 'IP', 'LoginTime', 'LogoutTime', 'TotalTime', 'Terminal']\n",
    "df = pd.read_csv('log.csv', sep=' ', names=names)\n",
    "print(df.head())"
   ]
  },
  {
   "cell_type": "code",
   "execution_count": 5,
   "id": "29216fc7",
   "metadata": {},
   "outputs": [
    {
     "name": "stdout",
     "output_type": "stream",
     "text": [
      "database has been created\n"
     ]
    }
   ],
   "source": [
    "#Creates the Table in SQLite\n",
    "import sqlite3\n",
    "conn = sqlite3.connect(\"test.db\")\n",
    "cur = conn.cursor()\n",
    "\n",
    "sql = \"\"\"\n",
    "create table Table1\n",
    "    (Username varchar(256),\n",
    "    IP varchar(256),\n",
    "    LoginTime varchar(256),\n",
    "    LogoutTime varchar(256),\n",
    "    TotalTime varchar(256),\n",
    "    Terminal varchar(256)\n",
    "    );\n",
    "\"\"\"\n",
    "\n",
    "cur.execute(sql)\n",
    "print(\"database has been created\")\n",
    "\n",
    "conn.commit()\n",
    "conn.close()"
   ]
  },
  {
   "cell_type": "code",
   "execution_count": 6,
   "id": "4adcfb6a",
   "metadata": {},
   "outputs": [],
   "source": [
    "import sqlite3\n",
    "conn = sqlite3.connect(\"test.db\")\n",
    "df.to_sql(\"Table1\", conn,schema=None, if_exists='append', index=False, index_label=None, chunksize=6, dtype=None, method=None)\n",
    "conn.close()"
   ]
  },
  {
   "cell_type": "code",
   "execution_count": 7,
   "id": "a4a8a836",
   "metadata": {},
   "outputs": [
    {
     "name": "stdout",
     "output_type": "stream",
     "text": [
      "  Username   IP LoginTime LogoutTime TotalTime Terminal\n",
      "0   begins  Sat       Oct         21  16:28:14     2023\n"
     ]
    }
   ],
   "source": [
    "#Converts the Database to a pandas DataFrame so it can be used on the Gradio web page\n",
    "connection = sqlite3.connect(\"test.db\")\n",
    "sql = pd.read_sql_query(\"SELECT * FROM Table1\", connection)\n",
    "df = pd.DataFrame(sql, columns=[\"Username\", \"IP\",\"LoginTime\", \"LogoutTime\",\n",
    "                     \"TotalTime\",\"Terminal\"])\n",
    "connection.close()\n",
    "print(df)"
   ]
  },
  {
   "cell_type": "code",
   "execution_count": 31,
   "id": "c874306a",
   "metadata": {},
   "outputs": [
    {
     "name": "stdout",
     "output_type": "stream",
     "text": [
      "Running on local URL:  http://127.0.0.1:7873\n",
      "Running on public URL: https://a7244015a9b3f0a392.gradio.live\n",
      "\n",
      "This share link expires in 72 hours. For free permanent hosting and GPU upgrades, run `gradio deploy` from Terminal to deploy to Spaces (https://huggingface.co/spaces)\n"
     ]
    },
    {
     "data": {
      "text/html": [
       "<div><iframe src=\"https://a7244015a9b3f0a392.gradio.live\" width=\"100%\" height=\"500\" allow=\"autoplay; camera; microphone; clipboard-read; clipboard-write;\" frameborder=\"0\" allowfullscreen></iframe></div>"
      ],
      "text/plain": [
       "<IPython.core.display.HTML object>"
      ]
     },
     "metadata": {},
     "output_type": "display_data"
    },
    {
     "data": {
      "text/plain": []
     },
     "execution_count": 31,
     "metadata": {},
     "output_type": "execute_result"
    }
   ],
   "source": [
    "#Creates the Gradio webpage\n",
    "import gradio as gr\n",
    "\n",
    "css = \"\"\"\n",
    "#warning textarea {background-color: #595cff;\n",
    "}\n",
    "\"\"\"\n",
    "\n",
    "def filter_records(records, Username):\n",
    "    return records[records[\"Username\"] == Username]\n",
    "\n",
    "\n",
    "with gr.Blocks(theme=gr.themes.Base(), css=css) as first_page:\n",
    "    with gr.Row():\n",
    "        Textbox=gr.Textbox(scale=0, show_label=False, value='Look up', elem_id=\"warning\")\n",
    "        gr.Textbox(scale=2, show_label=False)\n",
    "        gr.Textbox(scale=0, show_label=False, value='in', elem_id=\"warning\")\n",
    "        dropdown=gr.Dropdown([\"Username\", \"IP Address\",\"Login Time\", \"Logout time\",\n",
    "                     \"Total Time\",\"Terminal\"],\n",
    "                     scale=2, show_label=False)\n",
    "        button = gr.Button(value=\"Search\", size='sm', scale=0)\n",
    "    with gr.Row():\n",
    "        df_info = gr.Dataframe(height=800, value=df,\n",
    "                     headers=[\"Username\", \"IP Address\",\"Login Time\", \"Logout time\",\n",
    "                     \"Total Time\",\"Terminal\"],\n",
    "                     datatype=[\"str\", \"str\", \"str\", \"str\", \"str\", \"str\"],\n",
    "                     row_count=10,\n",
    "                     col_count=(6, \"fixed\"))\n",
    "    gr.Label=()\n",
    "first_page.launch(share=True)"
   ]
  },
  {
   "cell_type": "markdown",
   "id": "6b6d44ed",
   "metadata": {},
   "source": [
    "# App for monitoring SSH connections"
   ]
  },
  {
   "cell_type": "markdown",
   "id": "1578529b",
   "metadata": {},
   "source": [
    "SSH monitoring is not very user friendly because it needs to be done from a terminal with different commands and requires a connection to be made using a username, IP address, and password. This is a software that will make monitoring an ssh server more simple. I created this software to make it more user friendly with a nicer-looking interface and putting all the data in one place. Monitoring an SSH server is easier with this software as it will get the information from the server send it to a database and display it in a website for the user. The languages used to create this software were Python, Bash, and sqlite3. \n",
    "\n",
    "  \n",
    "\n",
    "The purpose of this software is to monitor a server in the most efficient way. It monitors the server remotely and the user does not need to run the commands themselves because the bash script automatically connects and runs the commands needed monitor. All data from the commands being ran will be saved to a database and this will be displayed on a website that is very simple and user friendly. With a cron job set up this notebook will be ran automatically each day and saved to the database. \n",
    "\n",
    "  \n",
    "\n",
    "Some of the key features this software has are stores data in 1 place, constant updates to the database, a GUI, and automatic connection to the ssh server. Connection to a server is automatic for the current server is connected to. If the user wishes to change the server this can be done by changing cell 3s username, IP, and password. The database is updated every 24 hours using a cron job which runs the jupyter notebook at 11:59pm each day. The GUI was created using the Gradio library in python and has the ability to sort items and search for items inside of the database. All data is first stored into a file and then sent to the database which is then displayed on the Gradio GUI. \n",
    "\n",
    "  \n",
    "\n",
    "Firstly when creating this project me and my mentor brainstormed some ideas for the app and settled on which languages were going to be used when creating it. Our main goals for the app were to create something that could log a users current session and save it to a file which would send that to a databasea at a certain time each day. We set goals that I needed to reach each week while working on this app. The way I would reach these goals is by doing research on the task I had each week. The tools I used were youtube, geeksforgeeks.com, and pandas.pydata.org. The order in which I created the app was the database first, the GUI, the bash script and the pandas data frame. \n",
    "\n",
    "  \n",
    "\n",
    "The benefit of this software is that it makes monitoring more efficient by giving the user access to the information to everything needed to monitor a server. The look of the GUI makes it more user friendly so a user does not need to know how to run command lines and connect to an ssh server since it is all done for the user. With the GUI finding data is simple as there is a search bar and a way to sort items within a column. Another benefit is all data is stored in a database so older records can be looked at. \n",
    "\n",
    "  \n",
    "\n",
    "The main goal of this project was to create a software that makes it easier for a user to monitor a server. I think the goal was reached with this software as it allows for someone to monitor the server remotely without needing to run commands in the terminal. With the gradio link the user monitoring can view past records of users who have logged in. "
   ]
  },
  {
   "cell_type": "code",
   "execution_count": null,
   "id": "404f9c22",
   "metadata": {},
   "outputs": [],
   "source": []
  }
 ],
 "metadata": {
  "kernelspec": {
   "display_name": "Python 3 (ipykernel)",
   "language": "python",
   "name": "python3"
  },
  "language_info": {
   "codemirror_mode": {
    "name": "ipython",
    "version": 3
   },
   "file_extension": ".py",
   "mimetype": "text/x-python",
   "name": "python",
   "nbconvert_exporter": "python",
   "pygments_lexer": "ipython3",
   "version": "3.9.7"
  }
 },
 "nbformat": 4,
 "nbformat_minor": 5
}
