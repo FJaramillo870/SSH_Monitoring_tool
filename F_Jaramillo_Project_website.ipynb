{
 "cells": [
  {
   "cell_type": "markdown",
   "id": "f6fc9327",
   "metadata": {},
   "source": [
    "# installs requirements"
   ]
  },
  {
   "cell_type": "code",
   "execution_count": null,
   "id": "d153ed48",
   "metadata": {},
   "outputs": [],
   "source": [
    "!pip install gradio\n",
    "!pip install fsspec --upgrade\n",
    "!pip install pandas"
   ]
  },
  {
   "cell_type": "code",
   "execution_count": null,
   "id": "605efedb",
   "metadata": {},
   "outputs": [],
   "source": [
    "# Imports\n",
    "import pandas as pd\n",
    "import gradio as gr\n",
    "import sqlite3"
   ]
  },
  {
   "cell_type": "code",
   "execution_count": null,
   "id": "58672774",
   "metadata": {},
   "outputs": [],
   "source": [
    "%%bash\n",
    "# Connects to the Server and Runs the last command\n",
    "#!/usr/bin/bash\n",
    "#How to install sshpass package\n",
    "#last -s yesterday -t today\n",
    "sshpass -f password.txt ssh bizon@10.0.17.10\n",
    "cd Desktop/F_Jaramillo_Project\n",
    "output=\"$(last -s yesterday -t today)\"\n",
    "echo \"$output\" >>log.csv"
   ]
  },
  {
   "cell_type": "code",
   "execution_count": null,
   "id": "df050f43",
   "metadata": {},
   "outputs": [],
   "source": [
    "names = ['Username', 'IP', 'LoginTime', 'LogoutTime', 'TotalTime', 'Terminal']\n",
    "df = pd.read_csv('log.csv', sep=' ', names=names)\n",
    "print(df.head())"
   ]
  },
  {
   "cell_type": "code",
   "execution_count": null,
   "id": "29216fc7",
   "metadata": {},
   "outputs": [],
   "source": [
    "#Creates the Table in SQLite\n",
    "import sqlite3\n",
    "conn = sqlite3.connect(\"test.db\")\n",
    "cur = conn.cursor()\n",
    "\n",
    "sql = \"\"\"\n",
    "create table Table1\n",
    "    (Username varchar(256),\n",
    "    IP varchar(256),\n",
    "    LoginTime varchar(256),\n",
    "    LogoutTime varchar(256),\n",
    "    TotalTime varchar(256),\n",
    "    Terminal varchar(256)\n",
    "    );\n",
    "\"\"\"\n",
    "\n",
    "cur.execute(sql)\n",
    "print(\"database has been created\")\n",
    "\n",
    "conn.commit()\n",
    "conn.close()"
   ]
  },
  {
   "cell_type": "code",
   "execution_count": null,
   "id": "4adcfb6a",
   "metadata": {},
   "outputs": [],
   "source": [
    "import sqlite3\n",
    "conn = sqlite3.connect(\"test.db\")\n",
    "df.to_sql(\"Table1\", conn,schema=None, if_exists='append', index=False, index_label=None, chunksize=6, dtype=None, method=None)\n",
    "conn.close()"
   ]
  },
  {
   "cell_type": "code",
   "execution_count": null,
   "id": "a4a8a836",
   "metadata": {},
   "outputs": [],
   "source": [
    "#Converts the Database to a pandas DataFrame so it can be used on the Gradio web page\n",
    "connection = sqlite3.connect(\"test.db\")\n",
    "sql = pd.read_sql_query(\"SELECT * FROM Table1\", connection)\n",
    "df = pd.DataFrame(sql, columns=[\"Username\", \"IP\",\"LoginTime\", \"LogoutTime\",\n",
    "                     \"TotalTime\",\"Terminal\"])\n",
    "connection.close()\n",
    "print(df)"
   ]
  },
  {
   "cell_type": "code",
   "execution_count": null,
   "id": "c874306a",
   "metadata": {},
   "outputs": [],
   "source": [
    "#Creates the Gradio webpage\n",
    "import gradio as gr\n",
    "\n",
    "css = \"\"\"\n",
    "#warning textarea {background-color: #595cff;\n",
    "}\n",
    "\"\"\"\n",
    "\n",
    "def filter_records(records, Username):\n",
    "    return records[records[\"Username\"] == Username]\n",
    "\n",
    "\n",
    "with gr.Blocks(theme=gr.themes.Base(), css=css) as first_page:\n",
    "    with gr.Row():\n",
    "        Textbox=gr.Textbox(scale=0, show_label=False, value='Look up', elem_id=\"warning\")\n",
    "        gr.Textbox(scale=2, show_label=False)\n",
    "        gr.Textbox(scale=0, show_label=False, value='in', elem_id=\"warning\")\n",
    "        dropdown=gr.Dropdown([\"Username\", \"IP Address\",\"Login Time\", \"Logout time\",\n",
    "                     \"Total Time\",\"Terminal\"],\n",
    "                     scale=2, show_label=False)\n",
    "        button = gr.Button(value=\"Search\", size='sm', scale=0)\n",
    "    with gr.Row():\n",
    "        df_info = gr.Dataframe(height=800, value=df,\n",
    "                     headers=[\"Username\", \"IP Address\",\"Login Time\", \"Logout time\",\n",
    "                     \"Total Time\",\"Terminal\"],\n",
    "                     datatype=[\"str\", \"str\", \"str\", \"str\", \"str\", \"str\"],\n",
    "                     row_count=10,\n",
    "                     col_count=(6, \"fixed\"))\n",
    "    gr.Label=()\n",
    "first_page.launch(share=True)"
   ]
  },
  {
   "cell_type": "markdown",
   "id": "6b6d44ed",
   "metadata": {},
   "source": [
    "# App for monitoring SSH connections"
   ]
  },
  {
   "cell_type": "markdown",
   "id": "1578529b",
   "metadata": {},
   "source": [
    "SSH monitoring is not very user friendly because it needs to be done from a terminal with different commands and requires a connection to be made using a username, IP address, and password. This is a software that will make monitoring an ssh server more simple. I created this software to make it more user friendly with a nicer-looking interface and putting all the data in one place. Monitoring an SSH server is easier with this software as it will get the information from the server send it to a database and display it in a website for the user. The languages used to create this software were Python, Bash, and sqlite3. \n",
    "\n",
    "  \n",
    "\n",
    "The purpose of this software is to monitor a server in the most efficient way. It monitors the server remotely and the user does not need to run the commands themselves because the bash script automatically connects and runs the commands needed monitor. All data from the commands being ran will be saved to a database and this will be displayed on a website that is very simple and user friendly. With a cron job set up this notebook will be ran automatically each day and saved to the database. \n",
    "\n",
    "  \n",
    "\n",
    "Some of the key features this software has are stores data in 1 place, constant updates to the database, a GUI, and automatic connection to the ssh server. Connection to a server is automatic for the current server is connected to. If the user wishes to change the server this can be done by changing cell 3s username, IP, and password. The database is updated every 24 hours using a cron job which runs the jupyter notebook at 11:59pm each day. The GUI was created using the Gradio library in python and has the ability to sort items and search for items inside of the database. All data is first stored into a file and then sent to the database which is then displayed on the Gradio GUI. \n",
    "\n",
    "  \n",
    "\n",
    "Firstly when creating this project me and my mentor brainstormed some ideas for the app and settled on which languages were going to be used when creating it. Our main goals for the app were to create something that could log a users current session and save it to a file which would send that to a databasea at a certain time each day. We set goals that I needed to reach each week while working on this app. The way I would reach these goals is by doing research on the task I had each week. The tools I used were youtube, geeksforgeeks.com, and pandas.pydata.org. The order in which I created the app was the database first, the GUI, the bash script and the pandas data frame. \n",
    "\n",
    "  \n",
    "\n",
    "The benefit of this software is that it makes monitoring more efficient by giving the user access to the information to everything needed to monitor a server. The look of the GUI makes it more user friendly so a user does not need to know how to run command lines and connect to an ssh server since it is all done for the user. With the GUI finding data is simple as there is a search bar and a way to sort items within a column. Another benefit is all data is stored in a database so older records can be looked at. \n",
    "\n",
    "  \n",
    "\n",
    "The main goal of this project was to create a software that makes it easier for a user to monitor a server. I think the goal was reached with this software as it allows for someone to monitor the server remotely without needing to run commands in the terminal. With the gradio link the user monitoring can view past records of users who have logged in. "
   ]
  },
  {
   "cell_type": "code",
   "execution_count": null,
   "id": "404f9c22",
   "metadata": {},
   "outputs": [],
   "source": []
  }
 ],
 "metadata": {
  "kernelspec": {
   "display_name": "Python 3 (ipykernel)",
   "language": "python",
   "name": "python3"
  },
  "language_info": {
   "codemirror_mode": {
    "name": "ipython",
    "version": 3
   },
   "file_extension": ".py",
   "mimetype": "text/x-python",
   "name": "python",
   "nbconvert_exporter": "python",
   "pygments_lexer": "ipython3",
   "version": "3.9.7"
  }
 },
 "nbformat": 4,
 "nbformat_minor": 5
}
